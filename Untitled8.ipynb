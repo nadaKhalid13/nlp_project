{
  "nbformat": 4,
  "nbformat_minor": 0,
  "metadata": {
    "colab": {
      "provenance": []
    },
    "kernelspec": {
      "name": "python3",
      "display_name": "Python 3"
    },
    "language_info": {
      "name": "python"
    }
  },
  "cells": [
    {
      "cell_type": "code",
      "execution_count": null,
      "metadata": {
        "colab": {
          "base_uri": "https://localhost:8080/"
        },
        "id": "8Dz9l_XcZ8dK",
        "outputId": "c273dc52-a432-4d2b-dd5e-52d7a69cbb8f"
      },
      "outputs": [
        {
          "output_type": "stream",
          "name": "stdout",
          "text": [
            "1/1 [==============================] - 1s 1s/step\n",
            "Text: \"product is pretty shitty\" - Sentiment: Positive\n",
            "Text: \"I am not happy with this purchase.\" - Sentiment: Negative\n"
          ]
        }
      ],
      "source": [
        "import numpy as np\n",
        "from keras.models import load_model\n",
        "from keras.preprocessing.sequence import pad_sequences\n",
        "import pickle\n",
        "\n",
        "# Load the saved tokenizer\n",
        "with open('/content/tokenizer.pkl', 'rb') as f:\n",
        "    tokenizer = pickle.load(f)\n",
        "\n",
        "# Load the saved model\n",
        "model = load_model('/content/amazon_model.h5')\n",
        "\n",
        "# Example new texts to classify\n",
        "new_texts = [\"product is pretty shitty\", \"I am not happy with this purchase.\"]\n",
        "\n",
        "# Convert texts to sequences\n",
        "sequences = tokenizer.texts_to_sequences(new_texts)\n",
        "\n",
        "# Pad the sequences\n",
        "max_length = 100  # This should be the same max_length used during training\n",
        "padded_sequences = pad_sequences(sequences, maxlen=max_length)\n",
        "\n",
        "# Make predictions\n",
        "predictions = model.predict(padded_sequences)\n",
        "\n",
        "# Convert the predictions to binary labels\n",
        "binary_predictions = (predictions > 0.5).astype(int)\n",
        "\n",
        "# Interpret the predictions\n",
        "for text, pred in zip(new_texts, binary_predictions):\n",
        "    sentiment = 'Positive' if pred == 1 else 'Negative'\n",
        "    print(f'Text: \"{text}\" - Sentiment: {sentiment}')"
      ]
    },
    {
      "cell_type": "code",
      "source": [],
      "metadata": {
        "id": "0_rjcxB1diAy"
      },
      "execution_count": null,
      "outputs": []
    }
  ]
}