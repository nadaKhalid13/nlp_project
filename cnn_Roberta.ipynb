{
  "nbformat": 4,
  "nbformat_minor": 0,
  "metadata": {
    "colab": {
      "provenance": [],
      "gpuType": "T4"
    },
    "kernelspec": {
      "name": "python3",
      "display_name": "Python 3"
    },
    "language_info": {
      "name": "python"
    },
    "accelerator": "GPU"
  },
  "cells": [
    {
      "cell_type": "markdown",
      "source": [
        "# **Libraries & Functions**"
      ],
      "metadata": {
        "id": "BWKkZg44_zor"
      }
    },
    {
      "cell_type": "code",
      "execution_count": null,
      "metadata": {
        "colab": {
          "base_uri": "https://localhost:8080/"
        },
        "id": "bCJ6rHTQ7qdB",
        "outputId": "61237ffe-a2de-4e67-d66a-a5f44c116adc"
      },
      "outputs": [
        {
          "output_type": "stream",
          "name": "stdout",
          "text": [
            "Collecting contractions\n",
            "  Downloading contractions-0.1.73-py2.py3-none-any.whl (8.7 kB)\n",
            "Collecting textsearch>=0.0.21 (from contractions)\n",
            "  Downloading textsearch-0.0.24-py2.py3-none-any.whl (7.6 kB)\n",
            "Collecting anyascii (from textsearch>=0.0.21->contractions)\n",
            "  Downloading anyascii-0.3.2-py3-none-any.whl (289 kB)\n",
            "\u001b[2K     \u001b[90m━━━━━━━━━━━━━━━━━━━━━━━━━━━━━━━━━━━━━━━━\u001b[0m \u001b[32m289.9/289.9 kB\u001b[0m \u001b[31m3.7 MB/s\u001b[0m eta \u001b[36m0:00:00\u001b[0m\n",
            "\u001b[?25hCollecting pyahocorasick (from textsearch>=0.0.21->contractions)\n",
            "  Downloading pyahocorasick-2.1.0-cp310-cp310-manylinux_2_5_x86_64.manylinux1_x86_64.manylinux_2_12_x86_64.manylinux2010_x86_64.whl (110 kB)\n",
            "\u001b[2K     \u001b[90m━━━━━━━━━━━━━━━━━━━━━━━━━━━━━━━━━━━━━━━━\u001b[0m \u001b[32m110.7/110.7 kB\u001b[0m \u001b[31m8.8 MB/s\u001b[0m eta \u001b[36m0:00:00\u001b[0m\n",
            "\u001b[?25hInstalling collected packages: pyahocorasick, anyascii, textsearch, contractions\n",
            "Successfully installed anyascii-0.3.2 contractions-0.1.73 pyahocorasick-2.1.0 textsearch-0.0.24\n",
            "Requirement already satisfied: textsearch in /usr/local/lib/python3.10/dist-packages (0.0.24)\n",
            "Requirement already satisfied: anyascii in /usr/local/lib/python3.10/dist-packages (from textsearch) (0.3.2)\n",
            "Requirement already satisfied: pyahocorasick in /usr/local/lib/python3.10/dist-packages (from textsearch) (2.1.0)\n",
            "Requirement already satisfied: tqdm in /usr/local/lib/python3.10/dist-packages (4.66.4)\n"
          ]
        },
        {
          "output_type": "stream",
          "name": "stderr",
          "text": [
            "[nltk_data] Downloading package punkt to /root/nltk_data...\n",
            "[nltk_data]   Unzipping tokenizers/punkt.zip.\n"
          ]
        },
        {
          "output_type": "execute_result",
          "data": {
            "text/plain": [
              "True"
            ]
          },
          "metadata": {},
          "execution_count": 1
        }
      ],
      "source": [
        "!pip install contractions\n",
        "!pip install textsearch\n",
        "!pip install tqdm\n",
        "import nltk\n",
        "nltk.download('punkt')"
      ]
    },
    {
      "cell_type": "code",
      "source": [
        "import tensorflow as tf\n",
        "import pandas as pd\n",
        "import numpy as np\n",
        "from tensorflow.keras.models import Sequential\n",
        "from tensorflow.keras.layers import Dense\n",
        "from tensorflow.keras.layers import Dropout\n",
        "from tensorflow.keras.layers import Flatten\n",
        "from tensorflow.keras.layers import Conv1D\n",
        "from tensorflow.keras.layers import MaxPooling1D\n",
        "from tensorflow.keras.layers import Embedding\n",
        "from tensorflow.keras.preprocessing.text import Tokenizer\n",
        "from tensorflow.keras.preprocessing import sequence\n",
        "from sklearn.preprocessing import LabelEncoder\n",
        "\n",
        "from sklearn import metrics\n",
        "from sklearn.metrics import f1_score, accuracy_score,confusion_matrix,classification_report\n",
        "import matplotlib.pyplot as plt\n",
        "import seaborn as sns\n",
        "# Time\n",
        "import time\n",
        "import datetime\n",
        "\n",
        "%matplotlib inline\n",
        "\n",
        "# fix random seed for reproducibility\n",
        "seed = 3541\n",
        "np.random.seed(seed)"
      ],
      "metadata": {
        "id": "_BJ1MVnt9uwj"
      },
      "execution_count": null,
      "outputs": []
    },
    {
      "cell_type": "code",
      "source": [
        "!pip install tqdm\n"
      ],
      "metadata": {
        "colab": {
          "base_uri": "https://localhost:8080/"
        },
        "id": "25ui91LQDPvT",
        "outputId": "38461f2e-4831-404d-b038-989d868832a4"
      },
      "execution_count": null,
      "outputs": [
        {
          "output_type": "stream",
          "name": "stdout",
          "text": [
            "Requirement already satisfied: tqdm in /usr/local/lib/python3.10/dist-packages (4.66.4)\n"
          ]
        }
      ]
    },
    {
      "cell_type": "code",
      "source": [
        "def date_time(x):\n",
        "    if x==1:\n",
        "        return 'Timestamp: {:%Y-%m-%d %H:%M:%S}'.format(datetime.datetime.now())\n",
        "    if x==2:\n",
        "        return 'Timestamp: {:%Y-%b-%d %H:%M:%S}'.format(datetime.datetime.now())\n",
        "    if x==3:\n",
        "        return 'Date now: %s' % datetime.datetime.now()\n",
        "    if x==4:\n",
        "        return 'Date today: %s' % datetime.date.today()"
      ],
      "metadata": {
        "id": "WEX2kVb19uta"
      },
      "execution_count": null,
      "outputs": []
    },
    {
      "cell_type": "code",
      "source": [
        "def plot_performance(history=None, figure_directory=None, ylim_pad=[0, 0]):\n",
        "    xlabel = 'Epoch'\n",
        "    legends = ['Training', 'Validation']\n",
        "\n",
        "    plt.figure(figsize=(20, 5))\n",
        "\n",
        "    y1 = history.history['accuracy']\n",
        "    y2 = history.history['val_accuracy']\n",
        "\n",
        "    min_y = min(min(y1), min(y2))-ylim_pad[0]\n",
        "    max_y = max(max(y1), max(y2))+ylim_pad[0]\n",
        "\n",
        "\n",
        "    plt.subplot(121)\n",
        "\n",
        "    plt.plot(y1)\n",
        "    plt.plot(y2)\n",
        "\n",
        "    plt.title('Model Accuracy\\n'+date_time(1), fontsize=17)\n",
        "    plt.xlabel(xlabel, fontsize=15)\n",
        "    plt.ylabel('Accuracy', fontsize=15)\n",
        "    plt.ylim(min_y, max_y)\n",
        "    plt.legend(legends, loc='upper left')\n",
        "    plt.grid()\n",
        "\n",
        "    y1 = history.history['loss']\n",
        "    y2 = history.history['val_loss']\n",
        "\n",
        "    min_y = min(min(y1), min(y2))-ylim_pad[1]\n",
        "    max_y = max(max(y1), max(y2))+ylim_pad[1]\n",
        "\n",
        "\n",
        "    plt.subplot(122)\n",
        "\n",
        "    plt.plot(y1)\n",
        "    plt.plot(y2)\n",
        "\n",
        "    plt.title('Model Loss\\n'+date_time(1), fontsize=17)\n",
        "    plt.xlabel(xlabel, fontsize=15)\n",
        "    plt.ylabel('Loss', fontsize=15)\n",
        "    plt.ylim(min_y, max_y)\n",
        "    plt.legend(legends, loc='upper left')\n",
        "    plt.grid()\n",
        "    if figure_directory:\n",
        "        plt.savefig(figure_directory+\"/history\")\n",
        "\n",
        "    plt.show()"
      ],
      "metadata": {
        "id": "e_sZtkm39upz"
      },
      "execution_count": null,
      "outputs": []
    },
    {
      "cell_type": "code",
      "source": [
        "import contractions\n",
        "from bs4 import BeautifulSoup\n",
        "import numpy as np\n",
        "import re\n",
        "import tqdm\n",
        "import unicodedata\n",
        "\n",
        "\n",
        "def strip_html_tags(text):\n",
        "  soup = BeautifulSoup(text, \"html.parser\")\n",
        "  [s.extract() for s in soup(['iframe', 'script'])]\n",
        "  stripped_text = soup.get_text()\n",
        "  stripped_text = re.sub(r'[\\r|\\n|\\r\\n]+', '\\n', stripped_text)\n",
        "  return stripped_text\n",
        "\n",
        "def remove_accented_chars(text):\n",
        "  text = unicodedata.normalize('NFKD', text).encode('ascii', 'ignore').decode('utf-8', 'ignore')\n",
        "  return text\n"
      ],
      "metadata": {
        "id": "1fNkPm_19un6"
      },
      "execution_count": null,
      "outputs": []
    },
    {
      "cell_type": "code",
      "source": [
        "from tqdm import tqdm\n",
        "\n",
        "def pre_process_corpus(docs):\n",
        "  norm_docs = []\n",
        "  for doc in tqdm(docs):\n",
        "    doc = strip_html_tags(doc)\n",
        "    doc = doc.translate(doc.maketrans(\"\\n\\t\\r\", \"   \"))\n",
        "    doc = doc.lower()\n",
        "    doc = remove_accented_chars(doc)\n",
        "    doc = contractions.fix(doc)\n",
        "    # lower case and remove special characters\\whitespaces\n",
        "    doc = re.sub(r'[^a-zA-Z0-9\\s]', '', doc, re.I|re.A)\n",
        "    doc = re.sub(' +', ' ', doc)\n",
        "    doc = doc.strip()\n",
        "    norm_docs.append(doc)\n",
        "\n",
        "  return norm_docs"
      ],
      "metadata": {
        "id": "a7VvMoa59uky"
      },
      "execution_count": null,
      "outputs": []
    },
    {
      "cell_type": "markdown",
      "source": [
        "# **Load Data**"
      ],
      "metadata": {
        "id": "veMRq0O8_9Vs"
      }
    },
    {
      "cell_type": "code",
      "source": [
        "!pip install -q kaggle\n",
        "from google.colab import files\n",
        "files.upload()"
      ],
      "metadata": {
        "colab": {
          "base_uri": "https://localhost:8080/",
          "height": 89
        },
        "id": "F2AgiU6-9uhq",
        "outputId": "5799afd8-5a72-42c9-ddfd-b854c0a79acc"
      },
      "execution_count": null,
      "outputs": [
        {
          "output_type": "display_data",
          "data": {
            "text/plain": [
              "<IPython.core.display.HTML object>"
            ],
            "text/html": [
              "\n",
              "     <input type=\"file\" id=\"files-b55be084-1dc9-44d9-bae9-440041786fd1\" name=\"files[]\" multiple disabled\n",
              "        style=\"border:none\" />\n",
              "     <output id=\"result-b55be084-1dc9-44d9-bae9-440041786fd1\">\n",
              "      Upload widget is only available when the cell has been executed in the\n",
              "      current browser session. Please rerun this cell to enable.\n",
              "      </output>\n",
              "      <script>// Copyright 2017 Google LLC\n",
              "//\n",
              "// Licensed under the Apache License, Version 2.0 (the \"License\");\n",
              "// you may not use this file except in compliance with the License.\n",
              "// You may obtain a copy of the License at\n",
              "//\n",
              "//      http://www.apache.org/licenses/LICENSE-2.0\n",
              "//\n",
              "// Unless required by applicable law or agreed to in writing, software\n",
              "// distributed under the License is distributed on an \"AS IS\" BASIS,\n",
              "// WITHOUT WARRANTIES OR CONDITIONS OF ANY KIND, either express or implied.\n",
              "// See the License for the specific language governing permissions and\n",
              "// limitations under the License.\n",
              "\n",
              "/**\n",
              " * @fileoverview Helpers for google.colab Python module.\n",
              " */\n",
              "(function(scope) {\n",
              "function span(text, styleAttributes = {}) {\n",
              "  const element = document.createElement('span');\n",
              "  element.textContent = text;\n",
              "  for (const key of Object.keys(styleAttributes)) {\n",
              "    element.style[key] = styleAttributes[key];\n",
              "  }\n",
              "  return element;\n",
              "}\n",
              "\n",
              "// Max number of bytes which will be uploaded at a time.\n",
              "const MAX_PAYLOAD_SIZE = 100 * 1024;\n",
              "\n",
              "function _uploadFiles(inputId, outputId) {\n",
              "  const steps = uploadFilesStep(inputId, outputId);\n",
              "  const outputElement = document.getElementById(outputId);\n",
              "  // Cache steps on the outputElement to make it available for the next call\n",
              "  // to uploadFilesContinue from Python.\n",
              "  outputElement.steps = steps;\n",
              "\n",
              "  return _uploadFilesContinue(outputId);\n",
              "}\n",
              "\n",
              "// This is roughly an async generator (not supported in the browser yet),\n",
              "// where there are multiple asynchronous steps and the Python side is going\n",
              "// to poll for completion of each step.\n",
              "// This uses a Promise to block the python side on completion of each step,\n",
              "// then passes the result of the previous step as the input to the next step.\n",
              "function _uploadFilesContinue(outputId) {\n",
              "  const outputElement = document.getElementById(outputId);\n",
              "  const steps = outputElement.steps;\n",
              "\n",
              "  const next = steps.next(outputElement.lastPromiseValue);\n",
              "  return Promise.resolve(next.value.promise).then((value) => {\n",
              "    // Cache the last promise value to make it available to the next\n",
              "    // step of the generator.\n",
              "    outputElement.lastPromiseValue = value;\n",
              "    return next.value.response;\n",
              "  });\n",
              "}\n",
              "\n",
              "/**\n",
              " * Generator function which is called between each async step of the upload\n",
              " * process.\n",
              " * @param {string} inputId Element ID of the input file picker element.\n",
              " * @param {string} outputId Element ID of the output display.\n",
              " * @return {!Iterable<!Object>} Iterable of next steps.\n",
              " */\n",
              "function* uploadFilesStep(inputId, outputId) {\n",
              "  const inputElement = document.getElementById(inputId);\n",
              "  inputElement.disabled = false;\n",
              "\n",
              "  const outputElement = document.getElementById(outputId);\n",
              "  outputElement.innerHTML = '';\n",
              "\n",
              "  const pickedPromise = new Promise((resolve) => {\n",
              "    inputElement.addEventListener('change', (e) => {\n",
              "      resolve(e.target.files);\n",
              "    });\n",
              "  });\n",
              "\n",
              "  const cancel = document.createElement('button');\n",
              "  inputElement.parentElement.appendChild(cancel);\n",
              "  cancel.textContent = 'Cancel upload';\n",
              "  const cancelPromise = new Promise((resolve) => {\n",
              "    cancel.onclick = () => {\n",
              "      resolve(null);\n",
              "    };\n",
              "  });\n",
              "\n",
              "  // Wait for the user to pick the files.\n",
              "  const files = yield {\n",
              "    promise: Promise.race([pickedPromise, cancelPromise]),\n",
              "    response: {\n",
              "      action: 'starting',\n",
              "    }\n",
              "  };\n",
              "\n",
              "  cancel.remove();\n",
              "\n",
              "  // Disable the input element since further picks are not allowed.\n",
              "  inputElement.disabled = true;\n",
              "\n",
              "  if (!files) {\n",
              "    return {\n",
              "      response: {\n",
              "        action: 'complete',\n",
              "      }\n",
              "    };\n",
              "  }\n",
              "\n",
              "  for (const file of files) {\n",
              "    const li = document.createElement('li');\n",
              "    li.append(span(file.name, {fontWeight: 'bold'}));\n",
              "    li.append(span(\n",
              "        `(${file.type || 'n/a'}) - ${file.size} bytes, ` +\n",
              "        `last modified: ${\n",
              "            file.lastModifiedDate ? file.lastModifiedDate.toLocaleDateString() :\n",
              "                                    'n/a'} - `));\n",
              "    const percent = span('0% done');\n",
              "    li.appendChild(percent);\n",
              "\n",
              "    outputElement.appendChild(li);\n",
              "\n",
              "    const fileDataPromise = new Promise((resolve) => {\n",
              "      const reader = new FileReader();\n",
              "      reader.onload = (e) => {\n",
              "        resolve(e.target.result);\n",
              "      };\n",
              "      reader.readAsArrayBuffer(file);\n",
              "    });\n",
              "    // Wait for the data to be ready.\n",
              "    let fileData = yield {\n",
              "      promise: fileDataPromise,\n",
              "      response: {\n",
              "        action: 'continue',\n",
              "      }\n",
              "    };\n",
              "\n",
              "    // Use a chunked sending to avoid message size limits. See b/62115660.\n",
              "    let position = 0;\n",
              "    do {\n",
              "      const length = Math.min(fileData.byteLength - position, MAX_PAYLOAD_SIZE);\n",
              "      const chunk = new Uint8Array(fileData, position, length);\n",
              "      position += length;\n",
              "\n",
              "      const base64 = btoa(String.fromCharCode.apply(null, chunk));\n",
              "      yield {\n",
              "        response: {\n",
              "          action: 'append',\n",
              "          file: file.name,\n",
              "          data: base64,\n",
              "        },\n",
              "      };\n",
              "\n",
              "      let percentDone = fileData.byteLength === 0 ?\n",
              "          100 :\n",
              "          Math.round((position / fileData.byteLength) * 100);\n",
              "      percent.textContent = `${percentDone}% done`;\n",
              "\n",
              "    } while (position < fileData.byteLength);\n",
              "  }\n",
              "\n",
              "  // All done.\n",
              "  yield {\n",
              "    response: {\n",
              "      action: 'complete',\n",
              "    }\n",
              "  };\n",
              "}\n",
              "\n",
              "scope.google = scope.google || {};\n",
              "scope.google.colab = scope.google.colab || {};\n",
              "scope.google.colab._files = {\n",
              "  _uploadFiles,\n",
              "  _uploadFilesContinue,\n",
              "};\n",
              "})(self);\n",
              "</script> "
            ]
          },
          "metadata": {}
        },
        {
          "output_type": "stream",
          "name": "stdout",
          "text": [
            "Saving kaggle.json to kaggle.json\n"
          ]
        },
        {
          "output_type": "execute_result",
          "data": {
            "text/plain": [
              "{'kaggle.json': b'{\"username\":\"nadahamdi\",\"key\":\"b72247aa1851f1d5f6367035f41b8432\"}'}"
            ]
          },
          "metadata": {},
          "execution_count": 7
        }
      ]
    },
    {
      "cell_type": "code",
      "source": [
        "!mkdir ~/.kaggle\n",
        "!mv kaggle.json ~/.kaggle/\n",
        "!chmod 600 ~/.kaggle/kaggle.json"
      ],
      "metadata": {
        "id": "aGwZ6J-G9udk",
        "colab": {
          "base_uri": "https://localhost:8080/"
        },
        "outputId": "6a1d5c2e-d21d-4573-8e46-980853cff811"
      },
      "execution_count": null,
      "outputs": [
        {
          "output_type": "stream",
          "name": "stdout",
          "text": [
            "mv: cannot stat 'kaggle.json': No such file or directory\n",
            "chmod: cannot access '/root/.kaggle/kaggle.json': No such file or directory\n"
          ]
        }
      ]
    },
    {
      "cell_type": "code",
      "source": [
        "!kaggle datasets download -d bittlingmayer/amazonreviews"
      ],
      "metadata": {
        "colab": {
          "base_uri": "https://localhost:8080/"
        },
        "id": "GPwefJXS9ubz",
        "outputId": "753b8690-9871-4df8-ed34-0a3300435b37"
      },
      "execution_count": null,
      "outputs": [
        {
          "output_type": "stream",
          "name": "stdout",
          "text": [
            "Dataset URL: https://www.kaggle.com/datasets/bittlingmayer/amazonreviews\n",
            "License(s): unknown\n",
            "Downloading amazonreviews.zip to /content\n",
            " 99% 489M/493M [00:08<00:00, 55.5MB/s]\n",
            "100% 493M/493M [00:08<00:00, 62.7MB/s]\n"
          ]
        }
      ]
    },
    {
      "cell_type": "code",
      "source": [
        "!unzip amazonreviews.zip"
      ],
      "metadata": {
        "colab": {
          "base_uri": "https://localhost:8080/"
        },
        "id": "LPFx2pkeAaVk",
        "outputId": "000856e8-4799-4924-de35-ed1c3ab145dc"
      },
      "execution_count": null,
      "outputs": [
        {
          "output_type": "stream",
          "name": "stdout",
          "text": [
            "Archive:  amazonreviews.zip\n",
            "  inflating: test.ft.txt.bz2         \n",
            "  inflating: train.ft.txt.bz2        \n"
          ]
        }
      ]
    },
    {
      "cell_type": "code",
      "source": [
        "import bz2\n",
        "\n",
        "output_path='/train.ft.txt'\n",
        "with bz2.open('/content/train.ft.txt.bz2','rt',encoding='utf-8') as compressed_file,open(output_path,'w',encoding='utf-8') as output_file:\n",
        "    for line in compressed_file :\n",
        "        output_file.write(line)\n",
        "    print('Train Successful')\n",
        "\n",
        "output_path='/test.ft.txt'\n",
        "with bz2.open('/content/test.ft.txt.bz2','rt',encoding='utf-8') as compressed_file,open(output_path,'w',encoding='utf-8') as output_file:\n",
        "    for line in compressed_file :\n",
        "        output_file.write(line)\n",
        "    print('Test Successful')"
      ],
      "metadata": {
        "colab": {
          "base_uri": "https://localhost:8080/"
        },
        "id": "iOtBBYF6AaSe",
        "outputId": "929857bc-8b7b-4eac-d245-9b5ff0cc337a"
      },
      "execution_count": null,
      "outputs": [
        {
          "output_type": "stream",
          "name": "stdout",
          "text": [
            "Train Successful\n",
            "Test Successful\n"
          ]
        }
      ]
    },
    {
      "cell_type": "code",
      "source": [
        "from tqdm import tqdm\n",
        "train,test,train_labels,test_labels=[],[],[],[]\n",
        "with open ('/train.ft.txt','r',encoding='utf-8') as file :\n",
        "    lines=file.readlines()\n",
        "for line in tqdm(lines):\n",
        "    train.append(line.split('__label__')[1][1:])\n",
        "    train_labels.append(line.split('__label__')[1][0])\n",
        "with open ('/test.ft.txt','r',encoding='utf-8') as file :\n",
        "    lines=file.readlines()\n",
        "for line in tqdm(lines):\n",
        "    test.append(line.split('__label__')[1][1:])\n",
        "    test_labels.append(line.split('__label__')[1][0])"
      ],
      "metadata": {
        "colab": {
          "base_uri": "https://localhost:8080/"
        },
        "id": "SwNLKV9RAaM-",
        "outputId": "bc3f5af1-9918-4513-cdcc-c8c6e6e05442"
      },
      "execution_count": null,
      "outputs": [
        {
          "output_type": "stream",
          "name": "stderr",
          "text": [
            "100%|██████████| 3600000/3600000 [00:06<00:00, 554626.88it/s]\n",
            "100%|██████████| 400000/400000 [00:00<00:00, 424680.08it/s]\n"
          ]
        }
      ]
    },
    {
      "cell_type": "code",
      "source": [
        "import pandas as pd\n",
        "train_data = {\n",
        "  \"review\": train,\n",
        "  \"label\": train_labels,\n",
        "}\n",
        "test_data = {\n",
        "  \"review\": test,\n",
        "  \"label\": test_labels,\n",
        "}\n",
        "test_data = pd.DataFrame(test_data)\n",
        "train_data = pd.DataFrame(train_data)"
      ],
      "metadata": {
        "id": "IKP_e92QAaJf"
      },
      "execution_count": null,
      "outputs": []
    },
    {
      "cell_type": "code",
      "source": [
        "test_data=test_data.head(200)"
      ],
      "metadata": {
        "id": "7jZ7YtJfT1wE"
      },
      "execution_count": null,
      "outputs": []
    },
    {
      "cell_type": "code",
      "source": [
        "train_data.drop_duplicates(subset='review',inplace=True)\n",
        "test_data.drop_duplicates(subset='review',inplace=True)"
      ],
      "metadata": {
        "id": "qOKMkgB0B_Z2"
      },
      "execution_count": null,
      "outputs": []
    },
    {
      "cell_type": "code",
      "source": [
        "train_data = train_data.sample(frac=1)\n",
        "test_data = test_data.sample(frac=1)"
      ],
      "metadata": {
        "id": "cmFRpG1ECD-g"
      },
      "execution_count": null,
      "outputs": []
    },
    {
      "cell_type": "code",
      "source": [
        "# Remove rows with empty reviews\n",
        "train_data = train_data.dropna(subset=['review'])\n",
        "\n",
        "# Alternatively, if the review column contains whitespace strings but not NaN values\n",
        "train_data = train_data[train_data['review'].str.strip() != '']\n",
        "\n",
        "# Reset index after removing rows\n",
        "train_data = train_data.reset_index(drop=True)"
      ],
      "metadata": {
        "id": "_bWgEHVrAaG0"
      },
      "execution_count": null,
      "outputs": []
    },
    {
      "cell_type": "code",
      "source": [
        "# Remove rows with empty reviews\n",
        "test_data = test_data.dropna(subset=['review'])\n",
        "\n",
        "# Alternatively, if the review column contains whitespace strings but not NaN values\n",
        "test_data = test_data[test_data['review'].str.strip() != '']\n",
        "\n",
        "# Reset index after removing rows\n",
        "test_data = test_data.reset_index(drop=True)"
      ],
      "metadata": {
        "id": "6fCDwSAFAaDj"
      },
      "execution_count": null,
      "outputs": []
    },
    {
      "cell_type": "code",
      "source": [
        "from sklearn.model_selection import train_test_split\n",
        "# Splitting the data using stratified sampling\n",
        "X_train, X_val, y_train, y_val = train_test_split(\n",
        "    train_data['review'],  # Features\n",
        "    train_data['label'],                   # Labels\n",
        "    test_size=0.2,                   # Percentage of data to use as validation set\n",
        "    random_state=42,                 # Random seed for reproducibility\n",
        "    stratify=train_data['label']           # Perform stratified sampling based on the labels\n",
        ")\n",
        "\n",
        "X_test = test_data['review']\n",
        "y_test = test_data['label'].values\n",
        "X_test = pd.DataFrame(X_test)\n",
        "y_test = pd.DataFrame(y_test)"
      ],
      "metadata": {
        "id": "uv2Csm2YAaAu"
      },
      "execution_count": null,
      "outputs": []
    },
    {
      "cell_type": "code",
      "source": [],
      "metadata": {
        "id": "R7WEuGZ1FaHv"
      },
      "execution_count": null,
      "outputs": []
    },
    {
      "cell_type": "code",
      "source": [
        "(X_train[1])"
      ],
      "metadata": {
        "colab": {
          "base_uri": "https://localhost:8080/",
          "height": 123
        },
        "id": "uYPD1QSBId1R",
        "outputId": "6d372af4-7fc8-43ae-c3c6-cc07ce3cfafd"
      },
      "execution_count": null,
      "outputs": [
        {
          "output_type": "execute_result",
          "data": {
            "text/plain": [
              "' Syndicated episdoes = no $$$ from me: I have tons of blank DVDRs and VHS tapes laying around the house. I can just record syndicated episodes off of cable TV. Why buy them? I wouldn\\'t buy a book that is missing pages. Studios often re-release movies with \"extra footage\" or \"director\\'s cut\" or \"extended edition\". How many do you think they would sell if they released a shortened version...like a Gone With the Wind that is only 2 hours long. I will no longer buy any DVD set with syndicated episodes. If the message is not sent to the studios right now, then they will ocntinue to take the cheap and easy path.\\n'"
            ],
            "application/vnd.google.colaboratory.intrinsic+json": {
              "type": "string"
            }
          },
          "metadata": {},
          "execution_count": 93
        }
      ]
    },
    {
      "cell_type": "code",
      "source": [
        "X_test.head()"
      ],
      "metadata": {
        "colab": {
          "base_uri": "https://localhost:8080/",
          "height": 206
        },
        "id": "rL_WhBD1IFxF",
        "outputId": "8f60cc9e-eec0-4848-a3af-b78a25196d7d"
      },
      "execution_count": null,
      "outputs": [
        {
          "output_type": "execute_result",
          "data": {
            "text/plain": [
              "                                              review\n",
              "0   Fantastic Product: I purchased this cheese gr...\n",
              "1   Not as musical as I had hoped: I purchased th...\n",
              "2   WHY ?? WHY ??: Why would anyone do a movie th...\n",
              "3   Great for work: I keep this at my desk becaus...\n",
              "4   If there was an option to give this book NO s..."
            ],
            "text/html": [
              "\n",
              "  <div id=\"df-35c6751a-485d-46ac-b386-8884b87bcfa6\" class=\"colab-df-container\">\n",
              "    <div>\n",
              "<style scoped>\n",
              "    .dataframe tbody tr th:only-of-type {\n",
              "        vertical-align: middle;\n",
              "    }\n",
              "\n",
              "    .dataframe tbody tr th {\n",
              "        vertical-align: top;\n",
              "    }\n",
              "\n",
              "    .dataframe thead th {\n",
              "        text-align: right;\n",
              "    }\n",
              "</style>\n",
              "<table border=\"1\" class=\"dataframe\">\n",
              "  <thead>\n",
              "    <tr style=\"text-align: right;\">\n",
              "      <th></th>\n",
              "      <th>review</th>\n",
              "    </tr>\n",
              "  </thead>\n",
              "  <tbody>\n",
              "    <tr>\n",
              "      <th>0</th>\n",
              "      <td>Fantastic Product: I purchased this cheese gr...</td>\n",
              "    </tr>\n",
              "    <tr>\n",
              "      <th>1</th>\n",
              "      <td>Not as musical as I had hoped: I purchased th...</td>\n",
              "    </tr>\n",
              "    <tr>\n",
              "      <th>2</th>\n",
              "      <td>WHY ?? WHY ??: Why would anyone do a movie th...</td>\n",
              "    </tr>\n",
              "    <tr>\n",
              "      <th>3</th>\n",
              "      <td>Great for work: I keep this at my desk becaus...</td>\n",
              "    </tr>\n",
              "    <tr>\n",
              "      <th>4</th>\n",
              "      <td>If there was an option to give this book NO s...</td>\n",
              "    </tr>\n",
              "  </tbody>\n",
              "</table>\n",
              "</div>\n",
              "    <div class=\"colab-df-buttons\">\n",
              "\n",
              "  <div class=\"colab-df-container\">\n",
              "    <button class=\"colab-df-convert\" onclick=\"convertToInteractive('df-35c6751a-485d-46ac-b386-8884b87bcfa6')\"\n",
              "            title=\"Convert this dataframe to an interactive table.\"\n",
              "            style=\"display:none;\">\n",
              "\n",
              "  <svg xmlns=\"http://www.w3.org/2000/svg\" height=\"24px\" viewBox=\"0 -960 960 960\">\n",
              "    <path d=\"M120-120v-720h720v720H120Zm60-500h600v-160H180v160Zm220 220h160v-160H400v160Zm0 220h160v-160H400v160ZM180-400h160v-160H180v160Zm440 0h160v-160H620v160ZM180-180h160v-160H180v160Zm440 0h160v-160H620v160Z\"/>\n",
              "  </svg>\n",
              "    </button>\n",
              "\n",
              "  <style>\n",
              "    .colab-df-container {\n",
              "      display:flex;\n",
              "      gap: 12px;\n",
              "    }\n",
              "\n",
              "    .colab-df-convert {\n",
              "      background-color: #E8F0FE;\n",
              "      border: none;\n",
              "      border-radius: 50%;\n",
              "      cursor: pointer;\n",
              "      display: none;\n",
              "      fill: #1967D2;\n",
              "      height: 32px;\n",
              "      padding: 0 0 0 0;\n",
              "      width: 32px;\n",
              "    }\n",
              "\n",
              "    .colab-df-convert:hover {\n",
              "      background-color: #E2EBFA;\n",
              "      box-shadow: 0px 1px 2px rgba(60, 64, 67, 0.3), 0px 1px 3px 1px rgba(60, 64, 67, 0.15);\n",
              "      fill: #174EA6;\n",
              "    }\n",
              "\n",
              "    .colab-df-buttons div {\n",
              "      margin-bottom: 4px;\n",
              "    }\n",
              "\n",
              "    [theme=dark] .colab-df-convert {\n",
              "      background-color: #3B4455;\n",
              "      fill: #D2E3FC;\n",
              "    }\n",
              "\n",
              "    [theme=dark] .colab-df-convert:hover {\n",
              "      background-color: #434B5C;\n",
              "      box-shadow: 0px 1px 3px 1px rgba(0, 0, 0, 0.15);\n",
              "      filter: drop-shadow(0px 1px 2px rgba(0, 0, 0, 0.3));\n",
              "      fill: #FFFFFF;\n",
              "    }\n",
              "  </style>\n",
              "\n",
              "    <script>\n",
              "      const buttonEl =\n",
              "        document.querySelector('#df-35c6751a-485d-46ac-b386-8884b87bcfa6 button.colab-df-convert');\n",
              "      buttonEl.style.display =\n",
              "        google.colab.kernel.accessAllowed ? 'block' : 'none';\n",
              "\n",
              "      async function convertToInteractive(key) {\n",
              "        const element = document.querySelector('#df-35c6751a-485d-46ac-b386-8884b87bcfa6');\n",
              "        const dataTable =\n",
              "          await google.colab.kernel.invokeFunction('convertToInteractive',\n",
              "                                                    [key], {});\n",
              "        if (!dataTable) return;\n",
              "\n",
              "        const docLinkHtml = 'Like what you see? Visit the ' +\n",
              "          '<a target=\"_blank\" href=https://colab.research.google.com/notebooks/data_table.ipynb>data table notebook</a>'\n",
              "          + ' to learn more about interactive tables.';\n",
              "        element.innerHTML = '';\n",
              "        dataTable['output_type'] = 'display_data';\n",
              "        await google.colab.output.renderOutput(dataTable, element);\n",
              "        const docLink = document.createElement('div');\n",
              "        docLink.innerHTML = docLinkHtml;\n",
              "        element.appendChild(docLink);\n",
              "      }\n",
              "    </script>\n",
              "  </div>\n",
              "\n",
              "\n",
              "<div id=\"df-bd5f9734-48e9-42a8-a93c-3fdf77240697\">\n",
              "  <button class=\"colab-df-quickchart\" onclick=\"quickchart('df-bd5f9734-48e9-42a8-a93c-3fdf77240697')\"\n",
              "            title=\"Suggest charts\"\n",
              "            style=\"display:none;\">\n",
              "\n",
              "<svg xmlns=\"http://www.w3.org/2000/svg\" height=\"24px\"viewBox=\"0 0 24 24\"\n",
              "     width=\"24px\">\n",
              "    <g>\n",
              "        <path d=\"M19 3H5c-1.1 0-2 .9-2 2v14c0 1.1.9 2 2 2h14c1.1 0 2-.9 2-2V5c0-1.1-.9-2-2-2zM9 17H7v-7h2v7zm4 0h-2V7h2v10zm4 0h-2v-4h2v4z\"/>\n",
              "    </g>\n",
              "</svg>\n",
              "  </button>\n",
              "\n",
              "<style>\n",
              "  .colab-df-quickchart {\n",
              "      --bg-color: #E8F0FE;\n",
              "      --fill-color: #1967D2;\n",
              "      --hover-bg-color: #E2EBFA;\n",
              "      --hover-fill-color: #174EA6;\n",
              "      --disabled-fill-color: #AAA;\n",
              "      --disabled-bg-color: #DDD;\n",
              "  }\n",
              "\n",
              "  [theme=dark] .colab-df-quickchart {\n",
              "      --bg-color: #3B4455;\n",
              "      --fill-color: #D2E3FC;\n",
              "      --hover-bg-color: #434B5C;\n",
              "      --hover-fill-color: #FFFFFF;\n",
              "      --disabled-bg-color: #3B4455;\n",
              "      --disabled-fill-color: #666;\n",
              "  }\n",
              "\n",
              "  .colab-df-quickchart {\n",
              "    background-color: var(--bg-color);\n",
              "    border: none;\n",
              "    border-radius: 50%;\n",
              "    cursor: pointer;\n",
              "    display: none;\n",
              "    fill: var(--fill-color);\n",
              "    height: 32px;\n",
              "    padding: 0;\n",
              "    width: 32px;\n",
              "  }\n",
              "\n",
              "  .colab-df-quickchart:hover {\n",
              "    background-color: var(--hover-bg-color);\n",
              "    box-shadow: 0 1px 2px rgba(60, 64, 67, 0.3), 0 1px 3px 1px rgba(60, 64, 67, 0.15);\n",
              "    fill: var(--button-hover-fill-color);\n",
              "  }\n",
              "\n",
              "  .colab-df-quickchart-complete:disabled,\n",
              "  .colab-df-quickchart-complete:disabled:hover {\n",
              "    background-color: var(--disabled-bg-color);\n",
              "    fill: var(--disabled-fill-color);\n",
              "    box-shadow: none;\n",
              "  }\n",
              "\n",
              "  .colab-df-spinner {\n",
              "    border: 2px solid var(--fill-color);\n",
              "    border-color: transparent;\n",
              "    border-bottom-color: var(--fill-color);\n",
              "    animation:\n",
              "      spin 1s steps(1) infinite;\n",
              "  }\n",
              "\n",
              "  @keyframes spin {\n",
              "    0% {\n",
              "      border-color: transparent;\n",
              "      border-bottom-color: var(--fill-color);\n",
              "      border-left-color: var(--fill-color);\n",
              "    }\n",
              "    20% {\n",
              "      border-color: transparent;\n",
              "      border-left-color: var(--fill-color);\n",
              "      border-top-color: var(--fill-color);\n",
              "    }\n",
              "    30% {\n",
              "      border-color: transparent;\n",
              "      border-left-color: var(--fill-color);\n",
              "      border-top-color: var(--fill-color);\n",
              "      border-right-color: var(--fill-color);\n",
              "    }\n",
              "    40% {\n",
              "      border-color: transparent;\n",
              "      border-right-color: var(--fill-color);\n",
              "      border-top-color: var(--fill-color);\n",
              "    }\n",
              "    60% {\n",
              "      border-color: transparent;\n",
              "      border-right-color: var(--fill-color);\n",
              "    }\n",
              "    80% {\n",
              "      border-color: transparent;\n",
              "      border-right-color: var(--fill-color);\n",
              "      border-bottom-color: var(--fill-color);\n",
              "    }\n",
              "    90% {\n",
              "      border-color: transparent;\n",
              "      border-bottom-color: var(--fill-color);\n",
              "    }\n",
              "  }\n",
              "</style>\n",
              "\n",
              "  <script>\n",
              "    async function quickchart(key) {\n",
              "      const quickchartButtonEl =\n",
              "        document.querySelector('#' + key + ' button');\n",
              "      quickchartButtonEl.disabled = true;  // To prevent multiple clicks.\n",
              "      quickchartButtonEl.classList.add('colab-df-spinner');\n",
              "      try {\n",
              "        const charts = await google.colab.kernel.invokeFunction(\n",
              "            'suggestCharts', [key], {});\n",
              "      } catch (error) {\n",
              "        console.error('Error during call to suggestCharts:', error);\n",
              "      }\n",
              "      quickchartButtonEl.classList.remove('colab-df-spinner');\n",
              "      quickchartButtonEl.classList.add('colab-df-quickchart-complete');\n",
              "    }\n",
              "    (() => {\n",
              "      let quickchartButtonEl =\n",
              "        document.querySelector('#df-bd5f9734-48e9-42a8-a93c-3fdf77240697 button');\n",
              "      quickchartButtonEl.style.display =\n",
              "        google.colab.kernel.accessAllowed ? 'block' : 'none';\n",
              "    })();\n",
              "  </script>\n",
              "</div>\n",
              "\n",
              "    </div>\n",
              "  </div>\n"
            ],
            "application/vnd.google.colaboratory.intrinsic+json": {
              "type": "dataframe",
              "variable_name": "X_test"
            }
          },
          "metadata": {},
          "execution_count": 94
        }
      ]
    },
    {
      "cell_type": "code",
      "source": [
        "X_train_p, _, y_train_p, _ = train_test_split(\n",
        "    X_train,                    # Features\n",
        "    y_train,                   # Labels\n",
        "    train_size=0.005,                  # Percentage of data to use for training\n",
        "    random_state=42,                 # Random seed for reproducibility\n",
        "    stratify=y_train           # Perform stratified sampling based on the labels\n",
        ")\n",
        "X_val_p, _, y_val_p, _ = train_test_split(\n",
        "    X_val,  # Features\n",
        "    y_val,                   # Labels\n",
        "    train_size=0.005,                  # Percentage of data to use for training\n",
        "    random_state=42,                 # Random seed for reproducibility\n",
        "    stratify=y_val           # Perform stratified sampling based on the labels\n",
        ")\n",
        "X_test_p, _, y_test_p, _ = train_test_split(\n",
        "    X_test,  # Features\n",
        "    y_test,                   # Labels\n",
        "    train_size=0.005,                  # Percentage of data to use for training\n",
        "    random_state=42,                 # Random seed for reproducibility\n",
        "    stratify=y_test           # Perform stratified sampling based on the labels\n",
        ")\n",
        "\n"
      ],
      "metadata": {
        "id": "Oe4hrZG9AZ-Q"
      },
      "execution_count": null,
      "outputs": []
    },
    {
      "cell_type": "code",
      "source": [
        "y_test_p.head()"
      ],
      "metadata": {
        "colab": {
          "base_uri": "https://localhost:8080/",
          "height": 206
        },
        "id": "3cGihABFihLu",
        "outputId": "5510b0bf-e7eb-4890-a8d3-6698ee9d3259"
      },
      "execution_count": null,
      "outputs": [
        {
          "output_type": "execute_result",
          "data": {
            "text/plain": [
              "        0\n",
              "380743  1\n",
              "221996  1\n",
              "346864  2\n",
              "69502   2\n",
              "364196  2"
            ],
            "text/html": [
              "\n",
              "  <div id=\"df-9fd63b30-fcc6-45f8-9aa8-8858ec81a9cb\" class=\"colab-df-container\">\n",
              "    <div>\n",
              "<style scoped>\n",
              "    .dataframe tbody tr th:only-of-type {\n",
              "        vertical-align: middle;\n",
              "    }\n",
              "\n",
              "    .dataframe tbody tr th {\n",
              "        vertical-align: top;\n",
              "    }\n",
              "\n",
              "    .dataframe thead th {\n",
              "        text-align: right;\n",
              "    }\n",
              "</style>\n",
              "<table border=\"1\" class=\"dataframe\">\n",
              "  <thead>\n",
              "    <tr style=\"text-align: right;\">\n",
              "      <th></th>\n",
              "      <th>0</th>\n",
              "    </tr>\n",
              "  </thead>\n",
              "  <tbody>\n",
              "    <tr>\n",
              "      <th>380743</th>\n",
              "      <td>1</td>\n",
              "    </tr>\n",
              "    <tr>\n",
              "      <th>221996</th>\n",
              "      <td>1</td>\n",
              "    </tr>\n",
              "    <tr>\n",
              "      <th>346864</th>\n",
              "      <td>2</td>\n",
              "    </tr>\n",
              "    <tr>\n",
              "      <th>69502</th>\n",
              "      <td>2</td>\n",
              "    </tr>\n",
              "    <tr>\n",
              "      <th>364196</th>\n",
              "      <td>2</td>\n",
              "    </tr>\n",
              "  </tbody>\n",
              "</table>\n",
              "</div>\n",
              "    <div class=\"colab-df-buttons\">\n",
              "\n",
              "  <div class=\"colab-df-container\">\n",
              "    <button class=\"colab-df-convert\" onclick=\"convertToInteractive('df-9fd63b30-fcc6-45f8-9aa8-8858ec81a9cb')\"\n",
              "            title=\"Convert this dataframe to an interactive table.\"\n",
              "            style=\"display:none;\">\n",
              "\n",
              "  <svg xmlns=\"http://www.w3.org/2000/svg\" height=\"24px\" viewBox=\"0 -960 960 960\">\n",
              "    <path d=\"M120-120v-720h720v720H120Zm60-500h600v-160H180v160Zm220 220h160v-160H400v160Zm0 220h160v-160H400v160ZM180-400h160v-160H180v160Zm440 0h160v-160H620v160ZM180-180h160v-160H180v160Zm440 0h160v-160H620v160Z\"/>\n",
              "  </svg>\n",
              "    </button>\n",
              "\n",
              "  <style>\n",
              "    .colab-df-container {\n",
              "      display:flex;\n",
              "      gap: 12px;\n",
              "    }\n",
              "\n",
              "    .colab-df-convert {\n",
              "      background-color: #E8F0FE;\n",
              "      border: none;\n",
              "      border-radius: 50%;\n",
              "      cursor: pointer;\n",
              "      display: none;\n",
              "      fill: #1967D2;\n",
              "      height: 32px;\n",
              "      padding: 0 0 0 0;\n",
              "      width: 32px;\n",
              "    }\n",
              "\n",
              "    .colab-df-convert:hover {\n",
              "      background-color: #E2EBFA;\n",
              "      box-shadow: 0px 1px 2px rgba(60, 64, 67, 0.3), 0px 1px 3px 1px rgba(60, 64, 67, 0.15);\n",
              "      fill: #174EA6;\n",
              "    }\n",
              "\n",
              "    .colab-df-buttons div {\n",
              "      margin-bottom: 4px;\n",
              "    }\n",
              "\n",
              "    [theme=dark] .colab-df-convert {\n",
              "      background-color: #3B4455;\n",
              "      fill: #D2E3FC;\n",
              "    }\n",
              "\n",
              "    [theme=dark] .colab-df-convert:hover {\n",
              "      background-color: #434B5C;\n",
              "      box-shadow: 0px 1px 3px 1px rgba(0, 0, 0, 0.15);\n",
              "      filter: drop-shadow(0px 1px 2px rgba(0, 0, 0, 0.3));\n",
              "      fill: #FFFFFF;\n",
              "    }\n",
              "  </style>\n",
              "\n",
              "    <script>\n",
              "      const buttonEl =\n",
              "        document.querySelector('#df-9fd63b30-fcc6-45f8-9aa8-8858ec81a9cb button.colab-df-convert');\n",
              "      buttonEl.style.display =\n",
              "        google.colab.kernel.accessAllowed ? 'block' : 'none';\n",
              "\n",
              "      async function convertToInteractive(key) {\n",
              "        const element = document.querySelector('#df-9fd63b30-fcc6-45f8-9aa8-8858ec81a9cb');\n",
              "        const dataTable =\n",
              "          await google.colab.kernel.invokeFunction('convertToInteractive',\n",
              "                                                    [key], {});\n",
              "        if (!dataTable) return;\n",
              "\n",
              "        const docLinkHtml = 'Like what you see? Visit the ' +\n",
              "          '<a target=\"_blank\" href=https://colab.research.google.com/notebooks/data_table.ipynb>data table notebook</a>'\n",
              "          + ' to learn more about interactive tables.';\n",
              "        element.innerHTML = '';\n",
              "        dataTable['output_type'] = 'display_data';\n",
              "        await google.colab.output.renderOutput(dataTable, element);\n",
              "        const docLink = document.createElement('div');\n",
              "        docLink.innerHTML = docLinkHtml;\n",
              "        element.appendChild(docLink);\n",
              "      }\n",
              "    </script>\n",
              "  </div>\n",
              "\n",
              "\n",
              "<div id=\"df-89505b02-0257-4b99-b6a7-8262ebc70995\">\n",
              "  <button class=\"colab-df-quickchart\" onclick=\"quickchart('df-89505b02-0257-4b99-b6a7-8262ebc70995')\"\n",
              "            title=\"Suggest charts\"\n",
              "            style=\"display:none;\">\n",
              "\n",
              "<svg xmlns=\"http://www.w3.org/2000/svg\" height=\"24px\"viewBox=\"0 0 24 24\"\n",
              "     width=\"24px\">\n",
              "    <g>\n",
              "        <path d=\"M19 3H5c-1.1 0-2 .9-2 2v14c0 1.1.9 2 2 2h14c1.1 0 2-.9 2-2V5c0-1.1-.9-2-2-2zM9 17H7v-7h2v7zm4 0h-2V7h2v10zm4 0h-2v-4h2v4z\"/>\n",
              "    </g>\n",
              "</svg>\n",
              "  </button>\n",
              "\n",
              "<style>\n",
              "  .colab-df-quickchart {\n",
              "      --bg-color: #E8F0FE;\n",
              "      --fill-color: #1967D2;\n",
              "      --hover-bg-color: #E2EBFA;\n",
              "      --hover-fill-color: #174EA6;\n",
              "      --disabled-fill-color: #AAA;\n",
              "      --disabled-bg-color: #DDD;\n",
              "  }\n",
              "\n",
              "  [theme=dark] .colab-df-quickchart {\n",
              "      --bg-color: #3B4455;\n",
              "      --fill-color: #D2E3FC;\n",
              "      --hover-bg-color: #434B5C;\n",
              "      --hover-fill-color: #FFFFFF;\n",
              "      --disabled-bg-color: #3B4455;\n",
              "      --disabled-fill-color: #666;\n",
              "  }\n",
              "\n",
              "  .colab-df-quickchart {\n",
              "    background-color: var(--bg-color);\n",
              "    border: none;\n",
              "    border-radius: 50%;\n",
              "    cursor: pointer;\n",
              "    display: none;\n",
              "    fill: var(--fill-color);\n",
              "    height: 32px;\n",
              "    padding: 0;\n",
              "    width: 32px;\n",
              "  }\n",
              "\n",
              "  .colab-df-quickchart:hover {\n",
              "    background-color: var(--hover-bg-color);\n",
              "    box-shadow: 0 1px 2px rgba(60, 64, 67, 0.3), 0 1px 3px 1px rgba(60, 64, 67, 0.15);\n",
              "    fill: var(--button-hover-fill-color);\n",
              "  }\n",
              "\n",
              "  .colab-df-quickchart-complete:disabled,\n",
              "  .colab-df-quickchart-complete:disabled:hover {\n",
              "    background-color: var(--disabled-bg-color);\n",
              "    fill: var(--disabled-fill-color);\n",
              "    box-shadow: none;\n",
              "  }\n",
              "\n",
              "  .colab-df-spinner {\n",
              "    border: 2px solid var(--fill-color);\n",
              "    border-color: transparent;\n",
              "    border-bottom-color: var(--fill-color);\n",
              "    animation:\n",
              "      spin 1s steps(1) infinite;\n",
              "  }\n",
              "\n",
              "  @keyframes spin {\n",
              "    0% {\n",
              "      border-color: transparent;\n",
              "      border-bottom-color: var(--fill-color);\n",
              "      border-left-color: var(--fill-color);\n",
              "    }\n",
              "    20% {\n",
              "      border-color: transparent;\n",
              "      border-left-color: var(--fill-color);\n",
              "      border-top-color: var(--fill-color);\n",
              "    }\n",
              "    30% {\n",
              "      border-color: transparent;\n",
              "      border-left-color: var(--fill-color);\n",
              "      border-top-color: var(--fill-color);\n",
              "      border-right-color: var(--fill-color);\n",
              "    }\n",
              "    40% {\n",
              "      border-color: transparent;\n",
              "      border-right-color: var(--fill-color);\n",
              "      border-top-color: var(--fill-color);\n",
              "    }\n",
              "    60% {\n",
              "      border-color: transparent;\n",
              "      border-right-color: var(--fill-color);\n",
              "    }\n",
              "    80% {\n",
              "      border-color: transparent;\n",
              "      border-right-color: var(--fill-color);\n",
              "      border-bottom-color: var(--fill-color);\n",
              "    }\n",
              "    90% {\n",
              "      border-color: transparent;\n",
              "      border-bottom-color: var(--fill-color);\n",
              "    }\n",
              "  }\n",
              "</style>\n",
              "\n",
              "  <script>\n",
              "    async function quickchart(key) {\n",
              "      const quickchartButtonEl =\n",
              "        document.querySelector('#' + key + ' button');\n",
              "      quickchartButtonEl.disabled = true;  // To prevent multiple clicks.\n",
              "      quickchartButtonEl.classList.add('colab-df-spinner');\n",
              "      try {\n",
              "        const charts = await google.colab.kernel.invokeFunction(\n",
              "            'suggestCharts', [key], {});\n",
              "      } catch (error) {\n",
              "        console.error('Error during call to suggestCharts:', error);\n",
              "      }\n",
              "      quickchartButtonEl.classList.remove('colab-df-spinner');\n",
              "      quickchartButtonEl.classList.add('colab-df-quickchart-complete');\n",
              "    }\n",
              "    (() => {\n",
              "      let quickchartButtonEl =\n",
              "        document.querySelector('#df-89505b02-0257-4b99-b6a7-8262ebc70995 button');\n",
              "      quickchartButtonEl.style.display =\n",
              "        google.colab.kernel.accessAllowed ? 'block' : 'none';\n",
              "    })();\n",
              "  </script>\n",
              "</div>\n",
              "\n",
              "    </div>\n",
              "  </div>\n"
            ],
            "application/vnd.google.colaboratory.intrinsic+json": {
              "type": "dataframe",
              "variable_name": "y_test_p",
              "summary": "{\n  \"name\": \"y_test_p\",\n  \"rows\": 2000,\n  \"fields\": [\n    {\n      \"column\": 0,\n      \"properties\": {\n        \"dtype\": \"category\",\n        \"num_unique_values\": 2,\n        \"samples\": [\n          \"2\",\n          \"1\"\n        ],\n        \"semantic_type\": \"\",\n        \"description\": \"\"\n      }\n    }\n  ]\n}"
            }
          },
          "metadata": {},
          "execution_count": 115
        }
      ]
    },
    {
      "cell_type": "code",
      "source": [
        "X_test_p.head()"
      ],
      "metadata": {
        "colab": {
          "base_uri": "https://localhost:8080/",
          "height": 206
        },
        "id": "bWlO9QqygLdJ",
        "outputId": "0225cd7a-4649-4669-b7db-0e76740e9f22"
      },
      "execution_count": null,
      "outputs": [
        {
          "output_type": "execute_result",
          "data": {
            "text/plain": [
              "                                                   review\n",
              "380743   Could be better: This toy was a gift for our ...\n",
              "221996   Poor service: Initially I was pleased with ho...\n",
              "346864   The Kids love them!!: These are awesome littl...\n",
              "69502    \"Judge for yourself , \" Judge for yourself.: ...\n",
              "364196   Perfect!: I have had a little Holmes air clea..."
            ],
            "text/html": [
              "\n",
              "  <div id=\"df-ba742b89-2557-4a3f-87c7-afb239e6d995\" class=\"colab-df-container\">\n",
              "    <div>\n",
              "<style scoped>\n",
              "    .dataframe tbody tr th:only-of-type {\n",
              "        vertical-align: middle;\n",
              "    }\n",
              "\n",
              "    .dataframe tbody tr th {\n",
              "        vertical-align: top;\n",
              "    }\n",
              "\n",
              "    .dataframe thead th {\n",
              "        text-align: right;\n",
              "    }\n",
              "</style>\n",
              "<table border=\"1\" class=\"dataframe\">\n",
              "  <thead>\n",
              "    <tr style=\"text-align: right;\">\n",
              "      <th></th>\n",
              "      <th>review</th>\n",
              "    </tr>\n",
              "  </thead>\n",
              "  <tbody>\n",
              "    <tr>\n",
              "      <th>380743</th>\n",
              "      <td>Could be better: This toy was a gift for our ...</td>\n",
              "    </tr>\n",
              "    <tr>\n",
              "      <th>221996</th>\n",
              "      <td>Poor service: Initially I was pleased with ho...</td>\n",
              "    </tr>\n",
              "    <tr>\n",
              "      <th>346864</th>\n",
              "      <td>The Kids love them!!: These are awesome littl...</td>\n",
              "    </tr>\n",
              "    <tr>\n",
              "      <th>69502</th>\n",
              "      <td>\"Judge for yourself , \" Judge for yourself.: ...</td>\n",
              "    </tr>\n",
              "    <tr>\n",
              "      <th>364196</th>\n",
              "      <td>Perfect!: I have had a little Holmes air clea...</td>\n",
              "    </tr>\n",
              "  </tbody>\n",
              "</table>\n",
              "</div>\n",
              "    <div class=\"colab-df-buttons\">\n",
              "\n",
              "  <div class=\"colab-df-container\">\n",
              "    <button class=\"colab-df-convert\" onclick=\"convertToInteractive('df-ba742b89-2557-4a3f-87c7-afb239e6d995')\"\n",
              "            title=\"Convert this dataframe to an interactive table.\"\n",
              "            style=\"display:none;\">\n",
              "\n",
              "  <svg xmlns=\"http://www.w3.org/2000/svg\" height=\"24px\" viewBox=\"0 -960 960 960\">\n",
              "    <path d=\"M120-120v-720h720v720H120Zm60-500h600v-160H180v160Zm220 220h160v-160H400v160Zm0 220h160v-160H400v160ZM180-400h160v-160H180v160Zm440 0h160v-160H620v160ZM180-180h160v-160H180v160Zm440 0h160v-160H620v160Z\"/>\n",
              "  </svg>\n",
              "    </button>\n",
              "\n",
              "  <style>\n",
              "    .colab-df-container {\n",
              "      display:flex;\n",
              "      gap: 12px;\n",
              "    }\n",
              "\n",
              "    .colab-df-convert {\n",
              "      background-color: #E8F0FE;\n",
              "      border: none;\n",
              "      border-radius: 50%;\n",
              "      cursor: pointer;\n",
              "      display: none;\n",
              "      fill: #1967D2;\n",
              "      height: 32px;\n",
              "      padding: 0 0 0 0;\n",
              "      width: 32px;\n",
              "    }\n",
              "\n",
              "    .colab-df-convert:hover {\n",
              "      background-color: #E2EBFA;\n",
              "      box-shadow: 0px 1px 2px rgba(60, 64, 67, 0.3), 0px 1px 3px 1px rgba(60, 64, 67, 0.15);\n",
              "      fill: #174EA6;\n",
              "    }\n",
              "\n",
              "    .colab-df-buttons div {\n",
              "      margin-bottom: 4px;\n",
              "    }\n",
              "\n",
              "    [theme=dark] .colab-df-convert {\n",
              "      background-color: #3B4455;\n",
              "      fill: #D2E3FC;\n",
              "    }\n",
              "\n",
              "    [theme=dark] .colab-df-convert:hover {\n",
              "      background-color: #434B5C;\n",
              "      box-shadow: 0px 1px 3px 1px rgba(0, 0, 0, 0.15);\n",
              "      filter: drop-shadow(0px 1px 2px rgba(0, 0, 0, 0.3));\n",
              "      fill: #FFFFFF;\n",
              "    }\n",
              "  </style>\n",
              "\n",
              "    <script>\n",
              "      const buttonEl =\n",
              "        document.querySelector('#df-ba742b89-2557-4a3f-87c7-afb239e6d995 button.colab-df-convert');\n",
              "      buttonEl.style.display =\n",
              "        google.colab.kernel.accessAllowed ? 'block' : 'none';\n",
              "\n",
              "      async function convertToInteractive(key) {\n",
              "        const element = document.querySelector('#df-ba742b89-2557-4a3f-87c7-afb239e6d995');\n",
              "        const dataTable =\n",
              "          await google.colab.kernel.invokeFunction('convertToInteractive',\n",
              "                                                    [key], {});\n",
              "        if (!dataTable) return;\n",
              "\n",
              "        const docLinkHtml = 'Like what you see? Visit the ' +\n",
              "          '<a target=\"_blank\" href=https://colab.research.google.com/notebooks/data_table.ipynb>data table notebook</a>'\n",
              "          + ' to learn more about interactive tables.';\n",
              "        element.innerHTML = '';\n",
              "        dataTable['output_type'] = 'display_data';\n",
              "        await google.colab.output.renderOutput(dataTable, element);\n",
              "        const docLink = document.createElement('div');\n",
              "        docLink.innerHTML = docLinkHtml;\n",
              "        element.appendChild(docLink);\n",
              "      }\n",
              "    </script>\n",
              "  </div>\n",
              "\n",
              "\n",
              "<div id=\"df-571f4045-2e4f-41ea-b0fa-46b9a327e633\">\n",
              "  <button class=\"colab-df-quickchart\" onclick=\"quickchart('df-571f4045-2e4f-41ea-b0fa-46b9a327e633')\"\n",
              "            title=\"Suggest charts\"\n",
              "            style=\"display:none;\">\n",
              "\n",
              "<svg xmlns=\"http://www.w3.org/2000/svg\" height=\"24px\"viewBox=\"0 0 24 24\"\n",
              "     width=\"24px\">\n",
              "    <g>\n",
              "        <path d=\"M19 3H5c-1.1 0-2 .9-2 2v14c0 1.1.9 2 2 2h14c1.1 0 2-.9 2-2V5c0-1.1-.9-2-2-2zM9 17H7v-7h2v7zm4 0h-2V7h2v10zm4 0h-2v-4h2v4z\"/>\n",
              "    </g>\n",
              "</svg>\n",
              "  </button>\n",
              "\n",
              "<style>\n",
              "  .colab-df-quickchart {\n",
              "      --bg-color: #E8F0FE;\n",
              "      --fill-color: #1967D2;\n",
              "      --hover-bg-color: #E2EBFA;\n",
              "      --hover-fill-color: #174EA6;\n",
              "      --disabled-fill-color: #AAA;\n",
              "      --disabled-bg-color: #DDD;\n",
              "  }\n",
              "\n",
              "  [theme=dark] .colab-df-quickchart {\n",
              "      --bg-color: #3B4455;\n",
              "      --fill-color: #D2E3FC;\n",
              "      --hover-bg-color: #434B5C;\n",
              "      --hover-fill-color: #FFFFFF;\n",
              "      --disabled-bg-color: #3B4455;\n",
              "      --disabled-fill-color: #666;\n",
              "  }\n",
              "\n",
              "  .colab-df-quickchart {\n",
              "    background-color: var(--bg-color);\n",
              "    border: none;\n",
              "    border-radius: 50%;\n",
              "    cursor: pointer;\n",
              "    display: none;\n",
              "    fill: var(--fill-color);\n",
              "    height: 32px;\n",
              "    padding: 0;\n",
              "    width: 32px;\n",
              "  }\n",
              "\n",
              "  .colab-df-quickchart:hover {\n",
              "    background-color: var(--hover-bg-color);\n",
              "    box-shadow: 0 1px 2px rgba(60, 64, 67, 0.3), 0 1px 3px 1px rgba(60, 64, 67, 0.15);\n",
              "    fill: var(--button-hover-fill-color);\n",
              "  }\n",
              "\n",
              "  .colab-df-quickchart-complete:disabled,\n",
              "  .colab-df-quickchart-complete:disabled:hover {\n",
              "    background-color: var(--disabled-bg-color);\n",
              "    fill: var(--disabled-fill-color);\n",
              "    box-shadow: none;\n",
              "  }\n",
              "\n",
              "  .colab-df-spinner {\n",
              "    border: 2px solid var(--fill-color);\n",
              "    border-color: transparent;\n",
              "    border-bottom-color: var(--fill-color);\n",
              "    animation:\n",
              "      spin 1s steps(1) infinite;\n",
              "  }\n",
              "\n",
              "  @keyframes spin {\n",
              "    0% {\n",
              "      border-color: transparent;\n",
              "      border-bottom-color: var(--fill-color);\n",
              "      border-left-color: var(--fill-color);\n",
              "    }\n",
              "    20% {\n",
              "      border-color: transparent;\n",
              "      border-left-color: var(--fill-color);\n",
              "      border-top-color: var(--fill-color);\n",
              "    }\n",
              "    30% {\n",
              "      border-color: transparent;\n",
              "      border-left-color: var(--fill-color);\n",
              "      border-top-color: var(--fill-color);\n",
              "      border-right-color: var(--fill-color);\n",
              "    }\n",
              "    40% {\n",
              "      border-color: transparent;\n",
              "      border-right-color: var(--fill-color);\n",
              "      border-top-color: var(--fill-color);\n",
              "    }\n",
              "    60% {\n",
              "      border-color: transparent;\n",
              "      border-right-color: var(--fill-color);\n",
              "    }\n",
              "    80% {\n",
              "      border-color: transparent;\n",
              "      border-right-color: var(--fill-color);\n",
              "      border-bottom-color: var(--fill-color);\n",
              "    }\n",
              "    90% {\n",
              "      border-color: transparent;\n",
              "      border-bottom-color: var(--fill-color);\n",
              "    }\n",
              "  }\n",
              "</style>\n",
              "\n",
              "  <script>\n",
              "    async function quickchart(key) {\n",
              "      const quickchartButtonEl =\n",
              "        document.querySelector('#' + key + ' button');\n",
              "      quickchartButtonEl.disabled = true;  // To prevent multiple clicks.\n",
              "      quickchartButtonEl.classList.add('colab-df-spinner');\n",
              "      try {\n",
              "        const charts = await google.colab.kernel.invokeFunction(\n",
              "            'suggestCharts', [key], {});\n",
              "      } catch (error) {\n",
              "        console.error('Error during call to suggestCharts:', error);\n",
              "      }\n",
              "      quickchartButtonEl.classList.remove('colab-df-spinner');\n",
              "      quickchartButtonEl.classList.add('colab-df-quickchart-complete');\n",
              "    }\n",
              "    (() => {\n",
              "      let quickchartButtonEl =\n",
              "        document.querySelector('#df-571f4045-2e4f-41ea-b0fa-46b9a327e633 button');\n",
              "      quickchartButtonEl.style.display =\n",
              "        google.colab.kernel.accessAllowed ? 'block' : 'none';\n",
              "    })();\n",
              "  </script>\n",
              "</div>\n",
              "\n",
              "    </div>\n",
              "  </div>\n"
            ],
            "application/vnd.google.colaboratory.intrinsic+json": {
              "type": "dataframe",
              "variable_name": "X_test_p",
              "summary": "{\n  \"name\": \"X_test_p\",\n  \"rows\": 2000,\n  \"fields\": [\n    {\n      \"column\": \"review\",\n      \"properties\": {\n        \"dtype\": \"string\",\n        \"num_unique_values\": 2000,\n        \"samples\": [\n          \" Poorly made, does NOT work at all: My 4 year old received this as a birthday gift, and unfortunately, despite putting in new batteries, the toy would still not work. It is cheaply made. The paper doesn't fit properly in the holders, so it bows up slightly in the middle. We could not get the motor to work at all, and obviously you can't spin it by hand. The splash guard only goes around the outer rim of the paint area, which doesn't make much sense (there is more than enough room in the middle to put paint.)I had a similar toy as a child and was better made. I would recommend a different brand if this toy is something your child wants. I can't even return it because we waited a few months (she received it for a different holiday and was too young to give it to her), plus the cost of shipping to return it would almost negate the whole cost of the toy. What a waste.\\n\",\n          \" a good primer for the beginner: This is a great book to get you started on more serious writing about paleoanthropology. Shreeve gives consideration to many theories without taking sides. His writing is clear & easy-going. I would have loved more illustrations & maps.\\n\",\n          \" Chatty and catty: As a psychologist and couples therapist, I picked up this book in the hopes that I could recommend it to my clients. I was thoroughly disappointed by the format, content, and length of this guide. Like many of the previous reviewers who were critical, I too found much that offended. It struck me as odd that in choosing to be three co-authors, it did not occur to these women that a male perspective would be an essential contribution. The book was anecdotal, providing little empirical support for the authors' viewpoints. Unlike these writers, I will be brief and circumspect. Instead of this book, you would be much better served by purchasing the Gottmans' And Baby Makes Three.\\n\"\n        ],\n        \"semantic_type\": \"\",\n        \"description\": \"\"\n      }\n    }\n  ]\n}"
            }
          },
          "metadata": {},
          "execution_count": 116
        }
      ]
    },
    {
      "cell_type": "code",
      "source": [
        "X_test_p = X_test_p['review']\n",
        "y_test_p = y_test_p[0]"
      ],
      "metadata": {
        "id": "zrOqanC1h6HQ"
      },
      "execution_count": null,
      "outputs": []
    },
    {
      "cell_type": "code",
      "source": [
        "type(X_train_p)"
      ],
      "metadata": {
        "colab": {
          "base_uri": "https://localhost:8080/",
          "height": 205
        },
        "id": "Y7dpR6ucgbS3",
        "outputId": "0cc40ea6-cb3e-43ed-f929-b30c716b81f1"
      },
      "execution_count": null,
      "outputs": [
        {
          "output_type": "execute_result",
          "data": {
            "text/plain": [
              "pandas.core.series.Series"
            ],
            "text/html": [
              "<div style=\"max-width:800px; border: 1px solid var(--colab-border-color);\"><style>\n",
              "      pre.function-repr-contents {\n",
              "        overflow-x: auto;\n",
              "        padding: 8px 12px;\n",
              "        max-height: 500px;\n",
              "      }\n",
              "\n",
              "      pre.function-repr-contents.function-repr-contents-collapsed {\n",
              "        cursor: pointer;\n",
              "        max-height: 100px;\n",
              "      }\n",
              "    </style>\n",
              "    <pre style=\"white-space: initial; background:\n",
              "         var(--colab-secondary-surface-color); padding: 8px 12px;\n",
              "         border-bottom: 1px solid var(--colab-border-color);\"><b>pandas.core.series.Series</b><br/>def __init__(data=None, index=None, dtype: Dtype | None=None, name=None, copy: bool | None=None, fastpath: bool=False) -&gt; None</pre><pre class=\"function-repr-contents function-repr-contents-collapsed\" style=\"\"><a class=\"filepath\" style=\"display:none\" href=\"#\">/usr/local/lib/python3.10/dist-packages/pandas/core/series.py</a>One-dimensional ndarray with axis labels (including time series).\n",
              "\n",
              "Labels need not be unique but must be a hashable type. The object\n",
              "supports both integer- and label-based indexing and provides a host of\n",
              "methods for performing operations involving the index. Statistical\n",
              "methods from ndarray have been overridden to automatically exclude\n",
              "missing data (currently represented as NaN).\n",
              "\n",
              "Operations between Series (+, -, /, \\*, \\*\\*) align values based on their\n",
              "associated index values-- they need not be the same length. The result\n",
              "index will be the sorted union of the two indexes.\n",
              "\n",
              "Parameters\n",
              "----------\n",
              "data : array-like, Iterable, dict, or scalar value\n",
              "    Contains data stored in Series. If data is a dict, argument order is\n",
              "    maintained.\n",
              "index : array-like or Index (1d)\n",
              "    Values must be hashable and have the same length as `data`.\n",
              "    Non-unique index values are allowed. Will default to\n",
              "    RangeIndex (0, 1, 2, ..., n) if not provided. If data is dict-like\n",
              "    and index is None, then the keys in the data are used as the index. If the\n",
              "    index is not None, the resulting Series is reindexed with the index values.\n",
              "dtype : str, numpy.dtype, or ExtensionDtype, optional\n",
              "    Data type for the output Series. If not specified, this will be\n",
              "    inferred from `data`.\n",
              "    See the :ref:`user guide &lt;basics.dtypes&gt;` for more usages.\n",
              "name : Hashable, default None\n",
              "    The name to give to the Series.\n",
              "copy : bool, default False\n",
              "    Copy input data. Only affects Series or 1d ndarray input. See examples.\n",
              "\n",
              "Notes\n",
              "-----\n",
              "Please reference the :ref:`User Guide &lt;basics.series&gt;` for more information.\n",
              "\n",
              "Examples\n",
              "--------\n",
              "Constructing Series from a dictionary with an Index specified\n",
              "\n",
              "&gt;&gt;&gt; d = {&#x27;a&#x27;: 1, &#x27;b&#x27;: 2, &#x27;c&#x27;: 3}\n",
              "&gt;&gt;&gt; ser = pd.Series(data=d, index=[&#x27;a&#x27;, &#x27;b&#x27;, &#x27;c&#x27;])\n",
              "&gt;&gt;&gt; ser\n",
              "a   1\n",
              "b   2\n",
              "c   3\n",
              "dtype: int64\n",
              "\n",
              "The keys of the dictionary match with the Index values, hence the Index\n",
              "values have no effect.\n",
              "\n",
              "&gt;&gt;&gt; d = {&#x27;a&#x27;: 1, &#x27;b&#x27;: 2, &#x27;c&#x27;: 3}\n",
              "&gt;&gt;&gt; ser = pd.Series(data=d, index=[&#x27;x&#x27;, &#x27;y&#x27;, &#x27;z&#x27;])\n",
              "&gt;&gt;&gt; ser\n",
              "x   NaN\n",
              "y   NaN\n",
              "z   NaN\n",
              "dtype: float64\n",
              "\n",
              "Note that the Index is first build with the keys from the dictionary.\n",
              "After this the Series is reindexed with the given Index values, hence we\n",
              "get all NaN as a result.\n",
              "\n",
              "Constructing Series from a list with `copy=False`.\n",
              "\n",
              "&gt;&gt;&gt; r = [1, 2]\n",
              "&gt;&gt;&gt; ser = pd.Series(r, copy=False)\n",
              "&gt;&gt;&gt; ser.iloc[0] = 999\n",
              "&gt;&gt;&gt; r\n",
              "[1, 2]\n",
              "&gt;&gt;&gt; ser\n",
              "0    999\n",
              "1      2\n",
              "dtype: int64\n",
              "\n",
              "Due to input data type the Series has a `copy` of\n",
              "the original data even though `copy=False`, so\n",
              "the data is unchanged.\n",
              "\n",
              "Constructing Series from a 1d ndarray with `copy=False`.\n",
              "\n",
              "&gt;&gt;&gt; r = np.array([1, 2])\n",
              "&gt;&gt;&gt; ser = pd.Series(r, copy=False)\n",
              "&gt;&gt;&gt; ser.iloc[0] = 999\n",
              "&gt;&gt;&gt; r\n",
              "array([999,   2])\n",
              "&gt;&gt;&gt; ser\n",
              "0    999\n",
              "1      2\n",
              "dtype: int64\n",
              "\n",
              "Due to input data type the Series has a `view` on\n",
              "the original data, so\n",
              "the data is changed as well.</pre>\n",
              "      <script>\n",
              "      if (google.colab.kernel.accessAllowed && google.colab.files && google.colab.files.view) {\n",
              "        for (const element of document.querySelectorAll('.filepath')) {\n",
              "          element.style.display = 'block'\n",
              "          element.onclick = (event) => {\n",
              "            event.preventDefault();\n",
              "            event.stopPropagation();\n",
              "            google.colab.files.view(element.textContent, 244);\n",
              "          };\n",
              "        }\n",
              "      }\n",
              "      for (const element of document.querySelectorAll('.function-repr-contents')) {\n",
              "        element.onclick = (event) => {\n",
              "          event.preventDefault();\n",
              "          event.stopPropagation();\n",
              "          element.classList.toggle('function-repr-contents-collapsed');\n",
              "        };\n",
              "      }\n",
              "      </script>\n",
              "      </div>"
            ]
          },
          "metadata": {},
          "execution_count": 104
        }
      ]
    },
    {
      "cell_type": "code",
      "source": [
        "cnt = pd.Series(y_train_p)\n",
        "cnt.value_counts()"
      ],
      "metadata": {
        "colab": {
          "base_uri": "https://localhost:8080/"
        },
        "id": "3Fv-XrtzZqtC",
        "outputId": "182198ae-8f2c-49ae-d38c-7d944028af68"
      },
      "execution_count": null,
      "outputs": [
        {
          "output_type": "execute_result",
          "data": {
            "text/plain": [
              "label\n",
              "1    7200\n",
              "2    7200\n",
              "Name: count, dtype: int64"
            ]
          },
          "metadata": {},
          "execution_count": 119
        }
      ]
    },
    {
      "cell_type": "code",
      "source": [
        "cnt = pd.Series(y_val_p)\n",
        "cnt.value_counts()"
      ],
      "metadata": {
        "colab": {
          "base_uri": "https://localhost:8080/"
        },
        "id": "i3QdK7hHaC_y",
        "outputId": "b5c5a694-18d3-4792-da5a-d0e2ec29c420"
      },
      "execution_count": null,
      "outputs": [
        {
          "output_type": "execute_result",
          "data": {
            "text/plain": [
              "label\n",
              "1    1800\n",
              "2    1800\n",
              "Name: count, dtype: int64"
            ]
          },
          "metadata": {},
          "execution_count": 120
        }
      ]
    },
    {
      "cell_type": "code",
      "source": [],
      "metadata": {
        "id": "RXXgUfCUj-ij"
      },
      "execution_count": null,
      "outputs": []
    },
    {
      "cell_type": "code",
      "source": [
        "cnt = pd.Series(y_test_p)\n",
        "cnt.value_counts()"
      ],
      "metadata": {
        "colab": {
          "base_uri": "https://localhost:8080/"
        },
        "id": "5hmua96kaIIf",
        "outputId": "1d6426b1-22ea-4de5-d020-42f91f150fe9"
      },
      "execution_count": null,
      "outputs": [
        {
          "output_type": "execute_result",
          "data": {
            "text/plain": [
              "0\n",
              "1    1000\n",
              "2    1000\n",
              "Name: count, dtype: int64"
            ]
          },
          "metadata": {},
          "execution_count": 125
        }
      ]
    },
    {
      "cell_type": "code",
      "source": [
        "test_data = test_data.head(1000)"
      ],
      "metadata": {
        "id": "OMztvlAkjPvy"
      },
      "execution_count": null,
      "outputs": []
    },
    {
      "cell_type": "code",
      "source": [
        "y_test_p.head()"
      ],
      "metadata": {
        "colab": {
          "base_uri": "https://localhost:8080/"
        },
        "id": "75XtNyBLJgn0",
        "outputId": "fccba621-3dd2-482d-e37a-cc2a333bac6c"
      },
      "execution_count": null,
      "outputs": [
        {
          "output_type": "execute_result",
          "data": {
            "text/plain": [
              "380743    1\n",
              "221996    1\n",
              "346864    2\n",
              "69502     2\n",
              "364196    2\n",
              "Name: 0, dtype: object"
            ]
          },
          "metadata": {},
          "execution_count": 126
        }
      ]
    },
    {
      "cell_type": "markdown",
      "source": [
        "# **Preprocessing**"
      ],
      "metadata": {
        "id": "KgRjmO_kCvkV"
      }
    },
    {
      "cell_type": "code",
      "source": [
        "%%time\n",
        "\n",
        "X_train = pre_process_corpus(X_train_p)\n",
        "X_val = pre_process_corpus(X_val_p)\n",
        "X_test = pre_process_corpus(X_test_p)\n"
      ],
      "metadata": {
        "colab": {
          "base_uri": "https://localhost:8080/"
        },
        "id": "k1RyaXEvCuIC",
        "outputId": "61c32f2d-baa1-498f-fae8-af4029cbe812"
      },
      "execution_count": null,
      "outputs": [
        {
          "output_type": "stream",
          "name": "stderr",
          "text": [
            "  0%|          | 0/14400 [00:00<?, ?it/s]<ipython-input-5-0bd1e2d37541>:10: MarkupResemblesLocatorWarning: The input looks more like a filename than markup. You may want to open this file and pass the filehandle into Beautiful Soup.\n",
            "  soup = BeautifulSoup(text, \"html.parser\")\n",
            "100%|██████████| 14400/14400 [00:04<00:00, 2929.51it/s]\n",
            "100%|██████████| 3600/3600 [00:00<00:00, 4201.76it/s]\n",
            "100%|██████████| 2000/2000 [00:00<00:00, 4462.10it/s]"
          ]
        },
        {
          "output_type": "stream",
          "name": "stdout",
          "text": [
            "CPU times: user 4.65 s, sys: 38.1 ms, total: 4.69 s\n",
            "Wall time: 6.24 s\n"
          ]
        },
        {
          "output_type": "stream",
          "name": "stderr",
          "text": [
            "\n"
          ]
        }
      ]
    },
    {
      "cell_type": "code",
      "source": [
        "t = Tokenizer(oov_token='<UNK>')\n",
        "# fit the tokenizer on train documents\n",
        "t.fit_on_texts(X_train)\n",
        "t.word_index['<PAD>'] = 0"
      ],
      "metadata": {
        "id": "h-BOVYRwCuLi"
      },
      "execution_count": null,
      "outputs": []
    },
    {
      "cell_type": "code",
      "source": [
        "X_train = t.texts_to_sequences(X_train)\n",
        "X_test = t.texts_to_sequences(X_test)\n",
        "X_val = t.texts_to_sequences(X_val)"
      ],
      "metadata": {
        "id": "gM2T9tUrCvLG"
      },
      "execution_count": null,
      "outputs": []
    },
    {
      "cell_type": "code",
      "source": [
        "print(\"Vocabulary size={}\".format(len(t.word_index)))\n",
        "print(\"Number of Documents={}\".format(t.document_count))"
      ],
      "metadata": {
        "colab": {
          "base_uri": "https://localhost:8080/"
        },
        "id": "7u6tkOA6CvIe",
        "outputId": "fa989258-4830-451d-fd95-f074705534bb"
      },
      "execution_count": null,
      "outputs": [
        {
          "output_type": "stream",
          "name": "stdout",
          "text": [
            "Vocabulary size=54180\n",
            "Number of Documents=14400\n"
          ]
        }
      ]
    },
    {
      "cell_type": "markdown",
      "source": [
        "# **Data Visualization**"
      ],
      "metadata": {
        "id": "JFuA0S-cKizV"
      }
    },
    {
      "cell_type": "code",
      "source": [
        "import matplotlib.pyplot as plt\n",
        "%matplotlib inline\n",
        "\n",
        "train_lens = [len(s) for s in X_train]\n",
        "test_lens = [len(s) for s in X_test]\n",
        "val_lens = [len(s) for s in X_val]\n",
        "\n",
        "\n",
        "fig, ax = plt.subplots(1,3, figsize=(12, 6))\n",
        "h1 = ax[0].hist(train_lens)\n",
        "h2 = ax[1].hist(test_lens)\n",
        "h3 = ax[2].hist(val_lens)\n"
      ],
      "metadata": {
        "colab": {
          "base_uri": "https://localhost:8080/",
          "height": 489
        },
        "id": "35mcpe5ZCvFL",
        "outputId": "1cb693c2-367c-4ed4-c234-ab9be00fbf05"
      },
      "execution_count": null,
      "outputs": [
        {
          "output_type": "display_data",
          "data": {
            "text/plain": [
              "<Figure size 1200x600 with 3 Axes>"
            ],
            "image/png": "[encoded data removed]"
          },
          "metadata": {}
        }
      ]
    },
    {
      "cell_type": "markdown",
      "source": [
        "# **Sequence Normalization and Encoding Labels**"
      ],
      "metadata": {
        "id": "bRGuhK0sLGAe"
      }
    },
    {
      "cell_type": "code",
      "source": [
        "MAX_SEQUENCE_LENGTH = 220\n",
        "# pad dataset to a maximum review length in words\n",
        "X_train = sequence.pad_sequences(X_train, maxlen=MAX_SEQUENCE_LENGTH)\n",
        "X_test = sequence.pad_sequences(X_test, maxlen=MAX_SEQUENCE_LENGTH)\n",
        "X_val = sequence.pad_sequences(X_val, maxlen=MAX_SEQUENCE_LENGTH)"
      ],
      "metadata": {
        "id": "NDIeJqnnCvB9"
      },
      "execution_count": null,
      "outputs": []
    },
    {
      "cell_type": "code",
      "source": [
        "import tensorflow\n",
        "print(tensorflow.__version__)"
      ],
      "metadata": {
        "colab": {
          "base_uri": "https://localhost:8080/"
        },
        "id": "98GwZ_BuhZeF",
        "outputId": "f4a19555-4aa9-445f-d3bd-c03924ad30e8"
      },
      "execution_count": null,
      "outputs": [
        {
          "output_type": "stream",
          "name": "stdout",
          "text": [
            "2.15.0\n"
          ]
        }
      ]
    },
    {
      "cell_type": "code",
      "source": [
        "le = LabelEncoder()\n",
        "num_classes=2\n",
        "y_train = le.fit_transform(y_train_p.ravel())\n",
        "y_test = le.transform(y_test_p.ravel())\n",
        "y_val = le.transform(y_val_p.ravel())"
      ],
      "metadata": {
        "id": "69bibP-wLl7t"
      },
      "execution_count": null,
      "outputs": []
    },
    {
      "cell_type": "code",
      "source": [
        "VOCAB_SIZE = len(t.word_index)"
      ],
      "metadata": {
        "id": "9Kd4AXWJLl4w"
      },
      "execution_count": null,
      "outputs": []
    },
    {
      "cell_type": "markdown",
      "source": [
        "# **Model (CNN)**"
      ],
      "metadata": {
        "id": "X3DU7ZpFLvCC"
      }
    },
    {
      "cell_type": "markdown",
      "source": [],
      "metadata": {
        "id": "VyHdOT4NNxWB"
      }
    },
    {
      "cell_type": "code",
      "source": [
        "from keras.utils import to_categorical\n"
      ],
      "metadata": {
        "id": "ohjQ5VU5Nzad"
      },
      "execution_count": null,
      "outputs": []
    },
    {
      "cell_type": "code",
      "source": [
        "y_train = to_categorical(y_train, num_classes)\n",
        "y_val = to_categorical(y_val, num_classes)\n",
        "y_test = to_categorical(y_test, num_classes)"
      ],
      "metadata": {
        "id": "Ib34r3VeNP_V"
      },
      "execution_count": null,
      "outputs": []
    },
    {
      "cell_type": "code",
      "source": [
        "y_train.shape"
      ],
      "metadata": {
        "colab": {
          "base_uri": "https://localhost:8080/"
        },
        "id": "ZvRzhpEjPyTq",
        "outputId": "44e2bc69-a757-424e-f813-ae32a82b01e2"
      },
      "execution_count": null,
      "outputs": [
        {
          "output_type": "execute_result",
          "data": {
            "text/plain": [
              "(14400, 2)"
            ]
          },
          "metadata": {},
          "execution_count": 140
        }
      ]
    },
    {
      "cell_type": "code",
      "source": [
        "EMBED_SIZE = 300\n",
        "Adam = tf.keras.optimizers.Adam(learning_rate=0.01)\n",
        "loss = tf.keras.losses.CategoricalCrossentropy(label_smoothing=0.1)\n",
        "callback = tf.keras.callbacks.EarlyStopping(monitor='accuracy', patience=2)\n"
      ],
      "metadata": {
        "id": "syr5nEcELtDh"
      },
      "execution_count": null,
      "outputs": []
    },
    {
      "cell_type": "code",
      "source": [
        "#create model arch\n",
        "model = Sequential()\n",
        "model.add(Embedding(VOCAB_SIZE, EMBED_SIZE, input_length=MAX_SEQUENCE_LENGTH))\n",
        "model.add(Conv1D(filters=32, kernel_size=4, padding='same', activation='relu'))\n",
        "model.add(MaxPooling1D(pool_size=2))\n",
        "model.add(Dropout(rate=0.10))\n",
        "model.add(Conv1D(filters=64, kernel_size=4, padding='same', activation='relu'))\n",
        "model.add(MaxPooling1D(pool_size=2))\n",
        "model.add(Dropout(rate=0.10))\n",
        "model.add(Conv1D(filters=64, kernel_size=4, padding='same', activation='relu'))\n",
        "model.add(MaxPooling1D(pool_size=2))\n",
        "model.add(Dropout(rate=0.10))\n",
        "model.add(Flatten())\n",
        "model.add(Dense(256, activation='relu'))\n",
        "model.add(Dense(num_classes, activation='softmax'))\n",
        "model.compile(loss=loss, optimizer=Adam, metrics=['accuracy'])\n",
        "model.summary()"
      ],
      "metadata": {
        "colab": {
          "base_uri": "https://localhost:8080/"
        },
        "id": "bxPQkDlILl1g",
        "outputId": "2dd35775-515a-4164-abc0-5405cdfbe8fa"
      },
      "execution_count": null,
      "outputs": [
        {
          "output_type": "stream",
          "name": "stdout",
          "text": [
            "Model: \"sequential_5\"\n",
            "_________________________________________________________________\n",
            " Layer (type)                Output Shape              Param #   \n",
            "=================================================================\n",
            " embedding_5 (Embedding)     (None, 220, 300)          16254000  \n",
            "                                                                 \n",
            " conv1d_15 (Conv1D)          (None, 220, 32)           38432     \n",
            "                                                                 \n",
            " max_pooling1d_15 (MaxPooli  (None, 110, 32)           0         \n",
            " ng1D)                                                           \n",
            "                                                                 \n",
            " dropout_15 (Dropout)        (None, 110, 32)           0         \n",
            "                                                                 \n",
            " conv1d_16 (Conv1D)          (None, 110, 64)           8256      \n",
            "                                                                 \n",
            " max_pooling1d_16 (MaxPooli  (None, 55, 64)            0         \n",
            " ng1D)                                                           \n",
            "                                                                 \n",
            " dropout_16 (Dropout)        (None, 55, 64)            0         \n",
            "                                                                 \n",
            " conv1d_17 (Conv1D)          (None, 55, 64)            16448     \n",
            "                                                                 \n",
            " max_pooling1d_17 (MaxPooli  (None, 27, 64)            0         \n",
            " ng1D)                                                           \n",
            "                                                                 \n",
            " dropout_17 (Dropout)        (None, 27, 64)            0         \n",
            "                                                                 \n",
            " flatten_5 (Flatten)         (None, 1728)              0         \n",
            "                                                                 \n",
            " dense_10 (Dense)            (None, 256)               442624    \n",
            "                                                                 \n",
            " dense_11 (Dense)            (None, 2)                 514       \n",
            "                                                                 \n",
            "=================================================================\n",
            "Total params: 16760274 (63.94 MB)\n",
            "Trainable params: 16760274 (63.94 MB)\n",
            "Non-trainable params: 0 (0.00 Byte)\n",
            "_________________________________________________________________\n"
          ]
        }
      ]
    },
    {
      "cell_type": "code",
      "source": [
        "# Fit the model\n",
        "with tf.device('/GPU:0'):\n",
        "    history1 = model.fit(X_train, y_train, validation_data=(X_val,y_val),epochs=10, batch_size=32, verbose=1, callbacks=[callback])"
      ],
      "metadata": {
        "colab": {
          "base_uri": "https://localhost:8080/"
        },
        "id": "V224sE6mLlzK",
        "outputId": "baf23597-134b-490c-8b48-3dba5bd5eeeb"
      },
      "execution_count": null,
      "outputs": [
        {
          "output_type": "stream",
          "name": "stdout",
          "text": [
            "Epoch 1/10\n",
            "450/450 [==============================] - 241s 529ms/step - loss: 0.5633 - accuracy: 0.7572 - val_loss: 0.5134 - val_accuracy: 0.8039\n",
            "Epoch 2/10\n",
            "450/450 [==============================] - 237s 526ms/step - loss: 0.3992 - accuracy: 0.8915 - val_loss: 0.4583 - val_accuracy: 0.8494\n",
            "Epoch 3/10\n",
            "450/450 [==============================] - 237s 527ms/step - loss: 0.3128 - accuracy: 0.9468 - val_loss: 0.4421 - val_accuracy: 0.8475\n",
            "Epoch 4/10\n",
            "450/450 [==============================] - 224s 498ms/step - loss: 0.2764 - accuracy: 0.9691 - val_loss: 0.4260 - val_accuracy: 0.8644\n",
            "Epoch 5/10\n",
            "450/450 [==============================] - 225s 500ms/step - loss: 0.2452 - accuracy: 0.9840 - val_loss: 0.5029 - val_accuracy: 0.8264\n",
            "Epoch 6/10\n",
            "450/450 [==============================] - 236s 524ms/step - loss: 0.2290 - accuracy: 0.9888 - val_loss: 0.4749 - val_accuracy: 0.8403\n",
            "Epoch 7/10\n",
            "450/450 [==============================] - 228s 506ms/step - loss: 0.2342 - accuracy: 0.9867 - val_loss: 0.4618 - val_accuracy: 0.8542\n",
            "Epoch 8/10\n",
            "450/450 [==============================] - 224s 497ms/step - loss: 0.2269 - accuracy: 0.9898 - val_loss: 0.4658 - val_accuracy: 0.8500\n",
            "Epoch 9/10\n",
            "450/450 [==============================] - 236s 523ms/step - loss: 0.2356 - accuracy: 0.9858 - val_loss: 0.4850 - val_accuracy: 0.8508\n",
            "Epoch 10/10\n",
            "450/450 [==============================] - 227s 505ms/step - loss: 0.2305 - accuracy: 0.9876 - val_loss: 0.4565 - val_accuracy: 0.8628\n"
          ]
        }
      ]
    },
    {
      "cell_type": "markdown",
      "source": [
        "# **Visualizing and Evaluating the Results**"
      ],
      "metadata": {
        "id": "aKm9AfOloGfU"
      }
    },
    {
      "cell_type": "code",
      "source": [
        "plot_performance(history=history1)\n"
      ],
      "metadata": {
        "colab": {
          "base_uri": "https://localhost:8080/",
          "height": 306
        },
        "id": "SRk5RC1-oJKl",
        "outputId": "ac7bff00-fad4-49ea-d9a6-b42de862f96f"
      },
      "execution_count": null,
      "outputs": [
        {
          "output_type": "display_data",
          "data": {
            "text/plain": [
              "<Figure size 2000x500 with 2 Axes>"
            ],
            "image/png": "[encoded data removed]"
          },
          "metadata": {}
        }
      ]
    },
    {
      "cell_type": "code",
      "source": [
        "# Final evaluation of the model\n",
        "scores = model.evaluate(X_test, y_test, verbose=1)\n",
        "print(\"Accuracy: %.2f%%\" % (scores[1]*100))"
      ],
      "metadata": {
        "colab": {
          "base_uri": "https://localhost:8080/"
        },
        "id": "1q-OJTUpoKC3",
        "outputId": "f2c3b479-caea-419c-88ef-091ae2047471"
      },
      "execution_count": null,
      "outputs": [
        {
          "output_type": "stream",
          "name": "stdout",
          "text": [
            "63/63 [==============================] - 2s 24ms/step - loss: 0.4774 - accuracy: 0.8570\n",
            "Accuracy: 85.70%\n"
          ]
        }
      ]
    },
    {
      "cell_type": "code",
      "source": [
        "# prompt: how to get the confusion matrix for this model?\n",
        "\n",
        "import numpy as np\n",
        "y_pred = np.argmax(model.predict(X_test), axis=1)\n",
        "y_true = np.argmax(y_test, axis=1)\n",
        "confusion_matrix = metrics.confusion_matrix(y_true, y_pred)\n",
        "print(confusion_matrix)\n"
      ],
      "metadata": {
        "colab": {
          "base_uri": "https://localhost:8080/"
        },
        "id": "UeV8ZXLboJ9o",
        "outputId": "0c937943-6239-437a-a85c-179cb4bfd2b0"
      },
      "execution_count": null,
      "outputs": [
        {
          "output_type": "stream",
          "name": "stdout",
          "text": [
            "63/63 [==============================] - 1s 20ms/step\n",
            "[[829 171]\n",
            " [115 885]]\n"
          ]
        }
      ]
    },
    {
      "cell_type": "code",
      "source": [
        "# Plot confusion matrix as heatmap\n",
        "plt.figure(figsize=(8, 6))\n",
        "plt.imshow(confusion_matrix, cmap=plt.cm.Blues, interpolation='nearest')\n",
        "plt.title('Confusion Matrix for CNN')\n",
        "plt.colorbar()\n",
        "plt.xlabel('Predicted labels')\n",
        "plt.ylabel('True labels')\n",
        "plt.xticks(np.arange(2), [1,2])  # Assuming classes are labeled with their names\n",
        "plt.yticks(np.arange(2), [1,2])  # Assuming classes are labeled with their names\n",
        "\n",
        "# Display the value inside the heatmap\n",
        "for i in range(confusion_matrix.shape[0]):\n",
        "    for j in range(confusion_matrix.shape[1]):\n",
        "        plt.text(j, i, str(confusion_matrix[i, j]), ha='center', va='center', color='black')\n",
        "\n",
        "plt.show()"
      ],
      "metadata": {
        "colab": {
          "base_uri": "https://localhost:8080/",
          "height": 564
        },
        "id": "72hSl90bwgBY",
        "outputId": "20e76eda-5444-42da-a90e-0693af82f978"
      },
      "execution_count": null,
      "outputs": [
        {
          "output_type": "display_data",
          "data": {
            "text/plain": [
              "<Figure size 800x600 with 2 Axes>"
            ],
            "image/png": "[encoded data removed]"
          },
          "metadata": {}
        }
      ]
    },
    {
      "cell_type": "code",
      "source": [
        "# prompt: how to get classification report\n",
        "\n",
        "print(classification_report(y_true, y_pred, target_names=['1','2']))\n"
      ],
      "metadata": {
        "colab": {
          "base_uri": "https://localhost:8080/"
        },
        "id": "Eaq9TTWjwwxM",
        "outputId": "123ec756-c616-4894-911c-9d92b05f51d1"
      },
      "execution_count": null,
      "outputs": [
        {
          "output_type": "stream",
          "name": "stdout",
          "text": [
            "              precision    recall  f1-score   support\n",
            "\n",
            "           1       0.88      0.83      0.85      1000\n",
            "           2       0.84      0.89      0.86      1000\n",
            "\n",
            "    accuracy                           0.86      2000\n",
            "   macro avg       0.86      0.86      0.86      2000\n",
            "weighted avg       0.86      0.86      0.86      2000\n",
            "\n"
          ]
        }
      ]
    },
    {
      "cell_type": "code",
      "source": [
        "# prompt: plot the result as bar chart\n",
        "\n",
        "import matplotlib.pyplot as plt\n",
        "import numpy as np\n",
        "# Get the number of correct and incorrect predictions for each class\n",
        "correct_predictions = confusion_matrix.diagonal()\n",
        "incorrect_predictions = np.sum(confusion_matrix, axis=1) - correct_predictions\n",
        "\n",
        "# Create a list of class names\n",
        "class_names = ['Class 1', 'Class 2']\n",
        "\n",
        "# Create the bar chart\n",
        "x_values = np.arange(len(class_names))\n",
        "bar_width = 0.35\n",
        "plt.bar(x_values - bar_width/2, correct_predictions, width=bar_width, color='g', label='Correct Predictions')\n",
        "plt.bar(x_values + bar_width/2, incorrect_predictions, width=bar_width, color='r', label='Incorrect Predictions')\n",
        "\n",
        "# Add labels and title\n",
        "plt.xticks(x_values, class_names)\n",
        "plt.title('Prediction Results for CNN')\n",
        "plt.xlabel('Class')\n",
        "plt.ylabel('Number of Predictions')\n",
        "plt.legend()\n",
        "\n",
        "# Display the bar chart\n",
        "plt.show()\n"
      ],
      "metadata": {
        "colab": {
          "base_uri": "https://localhost:8080/",
          "height": 472
        },
        "id": "PsnfNk4IzSBA",
        "outputId": "fc1e27bd-afc7-4997-d5db-02cc5571a049"
      },
      "execution_count": null,
      "outputs": [
        {
          "output_type": "display_data",
          "data": {
            "text/plain": [
              "<Figure size 640x480 with 1 Axes>"
            ],
            "image/png": "[encoded data removed]"
          },
          "metadata": {}
        }
      ]
    },
    {
      "cell_type": "code",
      "source": [
        "# prompt: how to save this model\n",
        "\n",
        "model.save('my_model.h5')\n"
      ],
      "metadata": {
        "colab": {
          "base_uri": "https://localhost:8080/"
        },
        "id": "n1Sq4PLt0B0M",
        "outputId": "a40b9bfb-e767-4636-baa9-b58fa659a2c1"
      },
      "execution_count": null,
      "outputs": [
        {
          "output_type": "stream",
          "name": "stderr",
          "text": [
            "/usr/local/lib/python3.10/dist-packages/keras/src/engine/training.py:3103: UserWarning: You are saving your model as an HDF5 file via `model.save()`. This file format is considered legacy. We recommend using instead the native Keras format, e.g. `model.save('my_model.keras')`.\n",
            "  saving_api.save_model(\n"
          ]
        }
      ]
    },
    {
      "cell_type": "code",
      "source": [
        "import pickle\n",
        "\n",
        "# Assuming you have a trained model object named 'model'\n",
        "# For example, let's say 'model' is a trained scikit-learn model\n",
        "# You would replace 'model' with your actual trained model object\n",
        "\n",
        "# Save the model to a file\n",
        "with open('model.pkl', 'wb') as f:\n",
        "    pickle.dump(model, f)"
      ],
      "metadata": {
        "id": "iB5CnIMr0IdR"
      },
      "execution_count": null,
      "outputs": []
    },
    {
      "cell_type": "code",
      "source": [
        "# prompt: how to predict from model with input example?\n",
        "'''\n",
        "import numpy as np\n",
        "# Load the trained model\n",
        "with open('model.pkl', 'rb') as f:\n",
        "    model = pickle.load(f)\n",
        "'''\n",
        "# Input example\n",
        "input_example = ['so good']\n",
        "\n",
        "# Preprocess the input example\n",
        "input_example = pre_process_corpus(input_example)\n",
        "input_example = t.texts_to_sequences(input_example)\n",
        "input_example = sequence.pad_sequences(input_example, maxlen=MAX_SEQUENCE_LENGTH)\n",
        "\n",
        "# Make prediction\n",
        "prediction = model.predict(input_example)\n",
        "\n",
        "# Get the predicted class label\n",
        "predicted_class = np.argmax(prediction)\n",
        "\n",
        "# Print the predicted class label\n",
        "print(predicted_class)\n"
      ],
      "metadata": {
        "colab": {
          "base_uri": "https://localhost:8080/"
        },
        "id": "_Ea4YOaJ1ln1",
        "outputId": "2df39e5f-81ac-4e6a-e532-60f0a45c1e9d"
      },
      "execution_count": null,
      "outputs": [
        {
          "output_type": "stream",
          "name": "stderr",
          "text": [
            "100%|██████████| 1/1 [00:00<00:00, 1533.01it/s]"
          ]
        },
        {
          "output_type": "stream",
          "name": "stdout",
          "text": [
            "1/1 [==============================] - 0s 34ms/step\n",
            "1\n"
          ]
        },
        {
          "output_type": "stream",
          "name": "stderr",
          "text": [
            "\n"
          ]
        }
      ]
    },
    {
      "cell_type": "code",
      "source": [
        "from transformers import AutoTokenizer\n",
        "from transformers import AutoModelForSequenceClassification\n",
        "from scipy.special import softmax\n",
        "\n",
        "MODEL = f\"cardiffnlp/twitter-roberta-base-sentiment\"\n",
        "tokenizer = AutoTokenizer.from_pretrained(MODEL)\n",
        "model = AutoModelForSequenceClassification.from_pretrained(MODEL)"
      ],
      "metadata": {
        "colab": {
          "base_uri": "https://localhost:8080/"
        },
        "id": "IDlV84CUBSpN",
        "outputId": "e4961642-4122-420b-e0f2-210e28921cbe"
      },
      "execution_count": null,
      "outputs": [
        {
          "output_type": "stream",
          "name": "stderr",
          "text": [
            "/usr/local/lib/python3.10/dist-packages/huggingface_hub/utils/_token.py:88: UserWarning: \n",
            "The secret `HF_TOKEN` does not exist in your Colab secrets.\n",
            "To authenticate with the Hugging Face Hub, create a token in your settings tab (https://huggingface.co/settings/tokens), set it as secret in your Google Colab and restart your session.\n",
            "You will be able to reuse this secret in all of your notebooks.\n",
            "Please note that authentication is recommended but still optional to access public models or datasets.\n",
            "  warnings.warn(\n"
          ]
        }
      ]
    },
    {
      "cell_type": "code",
      "source": [
        "example = 'not that good'\n",
        "encoded_text = tokenizer(example, return_tensors='pt')\n",
        "output = model(**encoded_text)\n",
        "scores = output[0][0].detach().numpy()\n",
        "scores = softmax(scores)\n",
        "print (scores)"
      ],
      "metadata": {
        "colab": {
          "base_uri": "https://localhost:8080/"
        },
        "id": "PhNLDwWPC6Dh",
        "outputId": "34596cdc-ef17-43a7-e4b5-549e410bd7c1"
      },
      "execution_count": null,
      "outputs": [
        {
          "output_type": "stream",
          "name": "stdout",
          "text": [
            "[0.90654176 0.08211938 0.01133889]\n"
          ]
        }
      ]
    },
    {
      "cell_type": "code",
      "source": [
        "import pandas as pd\n",
        "from sklearn.metrics import accuracy_score\n",
        "import torch\n",
        "import torch.nn.functional as F\n",
        "# Assuming test_data is your DataFrame containing 'review' and 'label' columns\n",
        "reviews = test_data['review'].tolist()\n",
        "labels = test_data['label']\n",
        "labels = labels.replace({'1': 1, '2': 2})\n",
        "\n",
        "\n",
        "# Tokenize the text data\n",
        "tokenized_data = tokenizer(reviews, padding=True, truncation=True, return_tensors=\"pt\")\n",
        "with torch.no_grad():\n",
        "    outputs = model(**tokenized_data)\n",
        "logits = outputs.logits\n",
        "\n",
        "# Convert logits to probabilities using softmax\n",
        "probs = torch.softmax(logits, dim=1)\n",
        "\n",
        "# Extract the model scores (probabilities for each class)\n",
        "model_scores = probs.cpu().numpy()\n",
        "print (model_scores)\n",
        "\n",
        "def map_scores_to_labels(scores):\n",
        "    predicted_labels = []\n",
        "    for score in scores:\n",
        "        if score[1] > score[0]:  # Check if positive score is higher\n",
        "            predicted_labels.append(2)  # Map to positive label\n",
        "        else:\n",
        "            predicted_labels.append(1)  # Map to negative label\n",
        "    return predicted_labels\n",
        "\n",
        "# Map model scores to predicted labels\n",
        "predicted_labels = map_scores_to_labels(model_scores)\n"
      ],
      "metadata": {
        "colab": {
          "base_uri": "https://localhost:8080/",
          "height": 1000
        },
        "id": "QOVDQiSmDTxU",
        "outputId": "3f617f46-3fc4-4e42-c466-aea4c5898202"
      },
      "execution_count": null,
      "outputs": [
        {
          "output_type": "stream",
          "name": "stdout",
          "text": [
            "[[0.00627987 0.02624005 0.9674801 ]\n",
            " [0.04158271 0.10595657 0.8524607 ]\n",
            " [0.3272742  0.4164411  0.25628468]\n",
            " [0.005544   0.07727948 0.9171765 ]\n",
            " [0.06869274 0.24020508 0.6911022 ]\n",
            " [0.88339436 0.10552955 0.01107609]\n",
            " [0.78344566 0.1717259  0.04482846]\n",
            " [0.8376946  0.14760354 0.01470195]\n",
            " [0.1293246  0.4410378  0.42963764]\n",
            " [0.01594647 0.1557714  0.8282821 ]\n",
            " [0.00120495 0.01790967 0.9808853 ]\n",
            " [0.42448404 0.4838259  0.09169007]\n",
            " [0.93282926 0.05911314 0.00805759]\n",
            " [0.00329583 0.01057183 0.9861324 ]\n",
            " [0.80620027 0.17270333 0.02109642]\n",
            " [0.9355812  0.05662825 0.00779058]\n",
            " [0.00732365 0.03079636 0.96187997]\n",
            " [0.00139734 0.0103114  0.9882912 ]\n",
            " [0.15008734 0.7209168  0.12899587]\n",
            " [0.00151152 0.00740271 0.9910857 ]\n",
            " [0.9712129  0.02532948 0.00345753]\n",
            " [0.9791559  0.01869959 0.00214444]\n",
            " [0.00303151 0.03298536 0.9639831 ]\n",
            " [0.00143739 0.01969285 0.97886974]\n",
            " [0.34465563 0.3515559  0.30378842]\n",
            " [0.926275   0.06538271 0.00834224]\n",
            " [0.04316132 0.17390715 0.78293157]\n",
            " [0.53168344 0.36976472 0.09855177]\n",
            " [0.07306186 0.19525196 0.7316862 ]\n",
            " [0.9206937  0.06959485 0.00971146]\n",
            " [0.00330561 0.05383756 0.94285685]\n",
            " [0.55159515 0.38058406 0.06782077]\n",
            " [0.00170922 0.00764996 0.9906408 ]\n",
            " [0.00251637 0.00850587 0.98897773]\n",
            " [0.00323143 0.02647697 0.97029155]\n",
            " [0.75301045 0.19440754 0.05258207]\n",
            " [0.00251774 0.01868163 0.9788006 ]\n",
            " [0.8567409  0.12757103 0.01568807]\n",
            " [0.00320671 0.01764056 0.97915274]\n",
            " [0.14248224 0.4950383  0.36247957]\n",
            " [0.02516882 0.1033385  0.8714926 ]\n",
            " [0.5194437  0.3247593  0.15579697]\n",
            " [0.01152212 0.06484799 0.9236299 ]\n",
            " [0.00757789 0.04595577 0.9464664 ]\n",
            " [0.03505753 0.08230927 0.8826332 ]\n",
            " [0.00804282 0.09118327 0.9007739 ]\n",
            " [0.7087424  0.24457209 0.04668561]\n",
            " [0.8070462  0.16187751 0.03107633]\n",
            " [0.69310075 0.25278476 0.05411446]\n",
            " [0.00259751 0.01573297 0.98166955]\n",
            " [0.07473801 0.26297846 0.6622834 ]\n",
            " [0.49439624 0.3440954  0.16150835]\n",
            " [0.88394725 0.10091339 0.01513939]\n",
            " [0.96602684 0.03029797 0.00367524]\n",
            " [0.3554758  0.5164844  0.12803973]\n",
            " [0.00587837 0.09115911 0.90296257]\n",
            " [0.8122696  0.15474208 0.03298839]\n",
            " [0.00194291 0.01721464 0.9808425 ]\n",
            " [0.08837704 0.3388453  0.5727777 ]\n",
            " [0.00312764 0.02467301 0.9721994 ]\n",
            " [0.00149901 0.00572729 0.99277365]\n",
            " [0.92622113 0.06543557 0.00834329]\n",
            " [0.10587283 0.40703332 0.48709387]\n",
            " [0.05737401 0.22163352 0.7209925 ]\n",
            " [0.5477106  0.32491785 0.12737161]\n",
            " [0.27991018 0.5215733  0.1985165 ]\n",
            " [0.00191234 0.01014063 0.98794705]\n",
            " [0.4076792  0.4394452  0.15287566]\n",
            " [0.1840058  0.41743946 0.39855474]\n",
            " [0.00304309 0.01359616 0.98336077]\n",
            " [0.01792718 0.10155221 0.8805206 ]\n",
            " [0.3381309  0.4321414  0.2297277 ]\n",
            " [0.715762   0.2482112  0.03602671]\n",
            " [0.5384096  0.40521556 0.05637489]\n",
            " [0.8618852  0.12434698 0.01376778]\n",
            " [0.12658985 0.27904058 0.5943696 ]\n",
            " [0.43268108 0.37771252 0.18960638]\n",
            " [0.6739273  0.3056495  0.02042315]\n",
            " [0.9170952  0.07303838 0.00986643]\n",
            " [0.6088887  0.33945015 0.05166112]\n",
            " [0.00887823 0.10956144 0.8815603 ]\n",
            " [0.0305324  0.17564906 0.7938186 ]\n",
            " [0.00333455 0.03812917 0.95853627]\n",
            " [0.8952347  0.09040885 0.01435643]\n",
            " [0.95032066 0.04389711 0.00578212]\n",
            " [0.574605   0.35308334 0.07231161]\n",
            " [0.03921945 0.16790484 0.79287565]\n",
            " [0.48465812 0.3618025  0.15353942]\n",
            " [0.52807134 0.28181577 0.19011283]\n",
            " [0.19921842 0.3576295  0.44315207]\n",
            " [0.83317727 0.14431924 0.0225035 ]\n",
            " [0.43688065 0.40729353 0.15582584]\n",
            " [0.9603565  0.03615503 0.00348851]\n",
            " [0.81802994 0.16078699 0.02118308]\n",
            " [0.31832305 0.4068199  0.274857  ]\n",
            " [0.02672187 0.221825   0.7514531 ]\n",
            " [0.9408202  0.05091229 0.00826747]\n",
            " [0.303538   0.33396998 0.36249202]\n",
            " [0.9424433  0.05246279 0.00509388]\n",
            " [0.00441492 0.03221611 0.9633689 ]\n",
            " [0.74715745 0.22670344 0.02613907]\n",
            " [0.0090075  0.08981699 0.90117544]\n",
            " [0.94228864 0.04970706 0.00800427]\n",
            " [0.01404707 0.09715009 0.8888028 ]\n",
            " [0.7736969  0.18798907 0.03831407]\n",
            " [0.973644   0.02239979 0.00395621]\n",
            " [0.00185234 0.01889927 0.9792484 ]\n",
            " [0.98218185 0.01558009 0.00223808]\n",
            " [0.6685682  0.2612478  0.07018401]\n",
            " [0.33936003 0.384751   0.27588898]\n",
            " [0.21377817 0.33792204 0.44829983]\n",
            " [0.01579877 0.13225378 0.8519475 ]\n",
            " [0.04049352 0.1300498  0.8294567 ]\n",
            " [0.23105055 0.35173714 0.41721234]\n",
            " [0.02388445 0.13480057 0.841315  ]\n",
            " [0.06471527 0.24132846 0.69395626]\n",
            " [0.5868406  0.29634845 0.11681095]\n",
            " [0.16424663 0.39905256 0.4367008 ]\n",
            " [0.8992444  0.09159651 0.00915902]\n",
            " [0.00394585 0.03006433 0.96598977]\n",
            " [0.00171531 0.00512357 0.9931611 ]\n",
            " [0.00117675 0.00761393 0.99120927]\n",
            " [0.31188732 0.34613407 0.34197864]\n",
            " [0.06625358 0.18570012 0.74804634]\n",
            " [0.00122295 0.00722652 0.99155056]\n",
            " [0.00295083 0.0307461  0.96630305]\n",
            " [0.00114732 0.00751942 0.9913333 ]\n",
            " [0.00481731 0.05268274 0.9425    ]\n",
            " [0.00130229 0.00897601 0.9897217 ]\n",
            " [0.00116842 0.00775353 0.9910781 ]\n",
            " [0.7677872  0.20793924 0.0242736 ]\n",
            " [0.9457717  0.04708989 0.00713842]\n",
            " [0.01425789 0.05578366 0.9299584 ]\n",
            " [0.00770308 0.04151727 0.9507796 ]\n",
            " [0.00997561 0.05106148 0.9389629 ]\n",
            " [0.0069709  0.0394256  0.9536035 ]\n",
            " [0.02385119 0.10428954 0.87185925]\n",
            " [0.69551474 0.26512286 0.03936246]\n",
            " [0.7020319  0.232803   0.06516515]\n",
            " [0.00297874 0.00615084 0.9908704 ]\n",
            " [0.04452502 0.15467374 0.8008013 ]\n",
            " [0.5165325  0.3445523  0.13891521]\n",
            " [0.736842   0.20911899 0.05403897]\n",
            " [0.03909995 0.11060037 0.8502997 ]\n",
            " [0.00238018 0.04459698 0.95302284]\n",
            " [0.1007708  0.78363895 0.11559022]\n",
            " [0.1715635  0.46920067 0.35923582]\n",
            " [0.49678794 0.3915747  0.11163732]\n",
            " [0.10281158 0.48442414 0.4127643 ]\n",
            " [0.6711362  0.2632447  0.06561909]\n",
            " [0.4108209  0.39714515 0.19203396]\n",
            " [0.9740573  0.0234121  0.0025305 ]\n",
            " [0.9087008  0.08356586 0.00773335]\n",
            " [0.25060132 0.40975246 0.33964625]\n",
            " [0.00212876 0.02290544 0.9749658 ]\n",
            " [0.00369552 0.0185179  0.9777866 ]\n",
            " [0.97873324 0.01910283 0.00216399]\n",
            " [0.00719779 0.15190311 0.8408991 ]\n",
            " [0.11823896 0.3997979  0.48196313]\n",
            " [0.03504122 0.4859986  0.4789602 ]\n",
            " [0.01075571 0.32654727 0.662697  ]\n",
            " [0.522505   0.41056362 0.06693139]\n",
            " [0.00194771 0.02769704 0.9703553 ]\n",
            " [0.00306615 0.02058561 0.9763482 ]\n",
            " [0.01859139 0.10411035 0.87729824]\n",
            " [0.3771015  0.42478865 0.1981098 ]\n",
            " [0.00984254 0.04693836 0.9432191 ]\n",
            " [0.00139534 0.00758264 0.99102205]\n",
            " [0.04511724 0.35446736 0.6004154 ]\n",
            " [0.9851526  0.01211509 0.0027323 ]\n",
            " [0.00944569 0.05179475 0.93875957]\n",
            " [0.02432639 0.13279317 0.8428804 ]\n",
            " [0.00107189 0.01021553 0.98871255]\n",
            " [0.20996715 0.41301847 0.3770144 ]\n",
            " [0.46200576 0.33521816 0.20277606]\n",
            " [0.7003855  0.23663339 0.06298114]\n",
            " [0.7564608  0.19496503 0.04857419]\n",
            " [0.6844067  0.24571511 0.06987818]\n",
            " [0.00152942 0.01848527 0.97998536]\n",
            " [0.00455286 0.02375591 0.9716913 ]\n",
            " [0.9728904  0.02362678 0.00348294]\n",
            " [0.95972043 0.03426482 0.0060148 ]\n",
            " [0.8799255  0.10858448 0.01149004]\n",
            " [0.09401429 0.3815208  0.52446496]\n",
            " [0.96768993 0.02758783 0.00472231]\n",
            " [0.06861137 0.47730386 0.4540847 ]\n",
            " [0.00214974 0.06679584 0.9310545 ]\n",
            " [0.00207453 0.03196198 0.96596354]\n",
            " [0.4592341  0.36956108 0.17120486]\n",
            " [0.00117893 0.00794759 0.99087346]\n",
            " [0.8184218  0.16112304 0.02045519]\n",
            " [0.0257059  0.30248025 0.6718139 ]\n",
            " [0.62039256 0.30889627 0.07071112]\n",
            " [0.02447143 0.09832517 0.87720346]\n",
            " [0.46321854 0.44669604 0.09008544]\n",
            " [0.01119993 0.244029   0.74477106]\n",
            " [0.95563674 0.03842417 0.00593914]\n",
            " [0.32672384 0.45509562 0.21818058]\n",
            " [0.80624145 0.16245133 0.03130712]\n",
            " [0.00654486 0.03374641 0.95970875]]\n"
          ]
        },
        {
          "output_type": "execute_result",
          "data": {
            "text/plain": [
              "'\\n# Pass the input data to the model for prediction\\nwith torch.no_grad():\\n    outputs = model(**tokenized_data)\\n\\n\\nprobs = F.softmax(outputs.logits, dim=1)\\n\\n# Convert probabilities to predicted labels\\npredicted_labels = torch.argmax(probs, dim=1).cpu().numpy()\\n\\n# # Convert the model predictions to probabilities\\n# probs = softmax(outputs.logits, axis=1)\\n# predicted_labels = torch.argmax(torch.from_numpy(probs), axis=1).cpu().numpy()\\n\\n# # Compare the predicted labels to the true labels\\n# accuracy = accuracy_score(labels, predicted_labels)\\n# print(\"Accuracy:\", accuracy)\\n'"
            ],
            "application/vnd.google.colaboratory.intrinsic+json": {
              "type": "string"
            }
          },
          "metadata": {},
          "execution_count": 26
        }
      ]
    },
    {
      "cell_type": "code",
      "source": [
        "# Calculate accuracy\n",
        "accuracy = accuracy_score(labels, predicted_labels)\n",
        "print(\"Accuracy:\", accuracy)"
      ],
      "metadata": {
        "colab": {
          "base_uri": "https://localhost:8080/"
        },
        "id": "eiocirMtaQgW",
        "outputId": "fcd5e7b5-e4a3-44be-eba4-b420534eb7a2"
      },
      "execution_count": null,
      "outputs": [
        {
          "output_type": "stream",
          "name": "stdout",
          "text": [
            "Accuracy: 0.865\n"
          ]
        }
      ]
    },
    {
      "cell_type": "code",
      "source": [
        "# prompt: how to generate confusion matrix fir this model\n",
        "\n",
        "from sklearn.metrics import confusion_matrix\n",
        "\n",
        "# Generate the confusion matrix\n",
        "confusion_matrix = confusion_matrix(labels, predicted_labels)\n",
        "\n",
        "# Print the confusion matrix\n",
        "print(confusion_matrix)\n"
      ],
      "metadata": {
        "colab": {
          "base_uri": "https://localhost:8080/"
        },
        "id": "lSol4pq7kszu",
        "outputId": "1c492959-0ba6-4aa8-ba5c-e789452618c0"
      },
      "execution_count": null,
      "outputs": [
        {
          "output_type": "stream",
          "name": "stdout",
          "text": [
            "[[ 71  20]\n",
            " [  7 102]]\n"
          ]
        }
      ]
    },
    {
      "cell_type": "code",
      "source": [
        "# prompt: visualize this matrix\n",
        "\n",
        "import seaborn as sns\n",
        "import matplotlib.pyplot as plt\n",
        "\n",
        "# Create the confusion matrix visualization\n",
        "sns.heatmap(confusion_matrix, annot=True, cmap=\"Blues\", fmt=\"d\", xticklabels=[\"Negative\", \"Positive\"], yticklabels=[\"Negative\", \"Positive\"])\n",
        "plt.title(\"Confusion Matrix for ROBERTA\")\n",
        "plt.xlabel(\"Predicted Label\")\n",
        "plt.ylabel(\"True Label\")\n",
        "plt.show()\n"
      ],
      "metadata": {
        "colab": {
          "base_uri": "https://localhost:8080/",
          "height": 472
        },
        "id": "mWiTZQTKk44z",
        "outputId": "dc0e9c48-bde7-4824-92ba-4fda580c77e1"
      },
      "execution_count": null,
      "outputs": [
        {
          "output_type": "display_data",
          "data": {
            "text/plain": [
              "<Figure size 640x480 with 2 Axes>"
            ],
            "image/png": "[encoded data removed]"
          },
          "metadata": {}
        }
      ]
    },
    {
      "cell_type": "code",
      "source": [
        "# prompt: generate classificatio report\n",
        "from sklearn.metrics import classification_report\n",
        "# Generate the classification report\n",
        "classification_report = classification_report(labels, predicted_labels)\n",
        "\n",
        "# Print the classification report\n",
        "print(classification_report)\n"
      ],
      "metadata": {
        "colab": {
          "base_uri": "https://localhost:8080/"
        },
        "id": "wmY5vRytlZBM",
        "outputId": "e0d9c10f-4c50-44d6-a0b7-a6937b07a51a"
      },
      "execution_count": null,
      "outputs": [
        {
          "output_type": "stream",
          "name": "stdout",
          "text": [
            "              precision    recall  f1-score   support\n",
            "\n",
            "           1       0.91      0.78      0.84        91\n",
            "           2       0.84      0.94      0.88       109\n",
            "\n",
            "    accuracy                           0.86       200\n",
            "   macro avg       0.87      0.86      0.86       200\n",
            "weighted avg       0.87      0.86      0.86       200\n",
            "\n"
          ]
        }
      ]
    },
    {
      "cell_type": "code",
      "source": [
        "# prompt: generate bar chart for true and false for each class\n",
        "\n",
        "import matplotlib.pyplot as plt\n",
        "import numpy as np\n",
        "# Get the number of correct and incorrect predictions for each class\n",
        "correct_predictions = confusion_matrix.diagonal()\n",
        "incorrect_predictions = np.sum(confusion_matrix, axis=1) - correct_predictions\n",
        "\n",
        "# Create a list of class names\n",
        "class_names = ['Class 1', 'Class 2']\n",
        "\n",
        "# Create the bar chart\n",
        "x_values = np.arange(len(class_names))\n",
        "bar_width = 0.35\n",
        "plt.bar(x_values - bar_width/2, correct_predictions, width=bar_width, color='g', label='Correct Predictions')\n",
        "plt.bar(x_values + bar_width/2, incorrect_predictions, width=bar_width, color='r', label='Incorrect Predictions')\n",
        "\n",
        "# Add labels and title\n",
        "plt.xticks(x_values, class_names)\n",
        "plt.title('Prediction Results for ROBERTA')\n",
        "plt.xlabel('Class')\n",
        "plt.ylabel('Number of Predictions')\n",
        "plt.legend()\n",
        "\n",
        "# Display the bar chart\n",
        "plt.show()\n"
      ],
      "metadata": {
        "colab": {
          "base_uri": "https://localhost:8080/",
          "height": 472
        },
        "id": "jJCAlyGiVrrH",
        "outputId": "ffa9c9f3-ec79-4776-8daa-cc2cf3d0e05e"
      },
      "execution_count": null,
      "outputs": [
        {
          "output_type": "display_data",
          "data": {
            "text/plain": [
              "<Figure size 640x480 with 1 Axes>"
            ],
            "image/png": "[encoded data removed]"
          },
          "metadata": {}
        }
      ]
    }
  ]
}